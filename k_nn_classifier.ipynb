{
  "nbformat": 4,
  "nbformat_minor": 0,
  "metadata": {
    "colab": {
      "name": "k-nn-classifier.ipynb",
      "provenance": [],
      "collapsed_sections": [],
      "authorship_tag": "ABX9TyOhLHMZing5HYurhyGNDwFW",
      "include_colab_link": true
    },
    "kernelspec": {
      "name": "python3",
      "display_name": "Python 3"
    },
    "language_info": {
      "name": "python"
    },
    "accelerator": "GPU"
  },
  "cells": [
    {
      "cell_type": "markdown",
      "metadata": {
        "id": "view-in-github",
        "colab_type": "text"
      },
      "source": [
        "<a href=\"https://colab.research.google.com/github/jsdysw/knn-classifier/blob/master/k_nn_classifier.ipynb\" target=\"_parent\"><img src=\"https://colab.research.google.com/assets/colab-badge.svg\" alt=\"Open In Colab\"/></a>"
      ]
    },
    {
      "cell_type": "code",
      "source": [
        "import pandas as pd\n",
        "import os\n",
        "import numpy as np\n",
        "from collections import Counter\n",
        "from sklearn.model_selection import train_test_split\n",
        "import matplotlib.pyplot as plt"
      ],
      "metadata": {
        "id": "CUnRTuxuiaqg"
      },
      "execution_count": 22,
      "outputs": []
    },
    {
      "cell_type": "markdown",
      "source": [
        "# Read dataset\n",
        "feature vector X = {f1, f2, f3, f4, f5, f6}\n",
        "\n",
        "class vector C = {\"satisfied\", \"unsatisfied\"}"
      ],
      "metadata": {
        "id": "7RUz0nvMo0IH"
      }
    },
    {
      "cell_type": "code",
      "execution_count": 23,
      "metadata": {
        "colab": {
          "base_uri": "https://localhost:8080/"
        },
        "id": "3hLaFfcVnuff",
        "outputId": "7fff93c0-7f19-4dcd-f915-863a0e253332"
      },
      "outputs": [
        {
          "output_type": "stream",
          "name": "stdout",
          "text": [
            "Examples of dataset : \n",
            " [[40 2 1 86872 25 9 'unsatisfied']\n",
            " [40 2 1 259323 54 10 'satisfied']\n",
            " [40 2 1 256813 43 14 'satisfied']]\n"
          ]
        }
      ],
      "source": [
        "# load satisfaction_data.csv from the local path\n",
        "directory_data = './'\n",
        "filename_data = 'satisfaction_data.csv'\n",
        "df = pd.read_csv(os.path.join(directory_data, filename_data), header=None)\n",
        "dataset = df.to_numpy() # pandas dataframe -> numpy array\n",
        "\n",
        "print(\"Examples of dataset : \\n\", dataset[0:3])"
      ]
    },
    {
      "cell_type": "markdown",
      "source": [
        "# Data preprocessing (normalize)"
      ],
      "metadata": {
        "id": "C40EydrXi8kS"
      }
    },
    {
      "cell_type": "code",
      "source": [
        "tot_data = dataset[:,:6]\n",
        "label = dataset[:,6]\n",
        "col_mean = tot_data.sum(axis = 0) / len(tot_data)\n",
        "col_std = np.std(tot_data, dtype=np.float64, axis = 0)\n",
        "\n",
        "normalized_tot_data = (tot_data - col_mean)/col_std\n",
        "\n",
        "dataset[:,:6] = normalized_tot_data\n",
        "\n",
        "print(\"Examples of dataset : \\n\", dataset[0:3])"
      ],
      "metadata": {
        "id": "skLWq6B1i7dv",
        "colab": {
          "base_uri": "https://localhost:8080/"
        },
        "outputId": "193e44e1-1c45-4ebd-bd50-650aebbf93e3"
      },
      "execution_count": 30,
      "outputs": [
        {
          "output_type": "stream",
          "name": "stdout",
          "text": [
            "Examples of dataset : \n",
            " [[-0.2719121181249427 -0.3154478691949683 -0.30263175423913774\n",
            "  -0.9674773980382068 -1.1209701180688763 -0.5313300832691843\n",
            "  'unsatisfied']\n",
            " [-0.2719121181249427 -0.3154478691949683 -0.30263175423913774\n",
            "  0.7378681063973553 1.1311590611140068 -0.123977698350118 'satisfied']\n",
            " [-0.2719121181249427 -0.3154478691949683 -0.30263175423913774\n",
            "  0.7130470429292789 0.27690316556187883 1.5054318413261472 'satisfied']]\n"
          ]
        }
      ]
    },
    {
      "cell_type": "markdown",
      "source": [
        "# Generate 10 different train/test dataset pairs randomly\n",
        "train data : test data = 9 : 1"
      ],
      "metadata": {
        "id": "fhf8s7M2D9bj"
      }
    },
    {
      "cell_type": "code",
      "source": [
        "X_dataset = dataset[:,:6]\n",
        "y_dataset = dataset[:,6]\n",
        "\n",
        "X_train = []\n",
        "y_train = []\n",
        "X_test = []\n",
        "y_test = []\n",
        "\n",
        "for i in range(10):\n",
        "    xtrain, xtest, ytrain, ytest  = train_test_split(X_dataset, y_dataset, test_size=0.1, stratify=y_dataset)\n",
        "    X_train.append(xtrain)\n",
        "    y_train.append(ytrain)\n",
        "    X_test.append(xtest)\n",
        "    y_test.append(ytest)\n",
        "\n",
        "# print(\"Examples of dataset : \\n\", X_test[0][0:3])\n",
        "\n",
        "# df = pd.DataFrame(X_test[0])\n",
        "# df.insert(6,\"class\" ,y_test[0])\n",
        "# df.to_csv(r'./pair0_test.csv', index = False)"
      ],
      "metadata": {
        "id": "W0aBRVFwEEHs"
      },
      "execution_count": 48,
      "outputs": []
    },
    {
      "cell_type": "markdown",
      "source": [
        "# kNN model\n",
        "distance between two data is defined as Euclidean(L2 norm)"
      ],
      "metadata": {
        "id": "ulJwjUUH8QO0"
      }
    },
    {
      "cell_type": "code",
      "source": [
        "class KNN:\n",
        "  def __init__(self, k):\n",
        "    self.k = k\n",
        "  \n",
        "  def fit(self, X, y):\n",
        "    self.X_train = X\n",
        "    self.y_train = y\n",
        "\n",
        "  # distance\n",
        "  def distance(self, data1, data2) :\n",
        "    sub = data1 - data2\n",
        "    dis = np.sum(np.square(sub)) ** 0.5\n",
        "    # print(\"data1 : \", data1)\n",
        "    # print(\"data2 : \", data2)\n",
        "    # print(\"sub\", sub)\n",
        "    # print(\"dis\", dis)\n",
        "    return dis\n",
        "\n",
        "\n",
        "  def predict(self, _X_test):\n",
        "    final_output = []\n",
        "\n",
        "    for i in range(len(_X_test)):\n",
        "        if i % 700 == 0 :\n",
        "          print(\"   Loading : \", i/len(_X_test))\n",
        "\n",
        "        d = []\n",
        "        votes = []\n",
        "\n",
        "        for j in range(len(self.X_train)):\n",
        "            # get distance with every data samples\n",
        "            dist = self.distance(_X_test[i] , self.X_train[j])\n",
        "            d.append([dist, j])\n",
        "        \n",
        "        d.sort()\n",
        "        d = d[0:self.k]\n",
        "\n",
        "        # vote\n",
        "        for d, j in d:\n",
        "            votes.append(self.y_train[j])  \n",
        "        ans = Counter(votes).most_common(1)[0][0]\n",
        "        final_output.append(ans)\n",
        "      \n",
        "    return final_output\n"
      ],
      "metadata": {
        "id": "NxP3eNab8PYG"
      },
      "execution_count": 26,
      "outputs": []
    },
    {
      "cell_type": "markdown",
      "source": [
        "# Predict satisfaction with 10 dataset pairs"
      ],
      "metadata": {
        "id": "bfASzFDaAqnq"
      }
    },
    {
      "cell_type": "code",
      "source": [
        "# set k-NN model\n",
        "window_size = 5\n",
        "clf = KNN(window_size)\n",
        "\n",
        "num_of_test_input = 2000\n",
        "num_of_datapairs = 10\n",
        "\n",
        "for i in range(num_of_datapairs):\n",
        "    print(\"Predict with train/test pair# : \", i)\n",
        "\n",
        "    clf.fit(X_train[i][0:], y_train[i][0:])\n",
        "    \n",
        "    # predict \n",
        "    prediction = clf.predict(X_test[i][0:num_of_test_input])\n",
        "        \n",
        "    ground_truth = y_test[i][0:num_of_test_input]\n",
        "    # print(prediction)\n",
        "    # print(ground_truth)\n",
        "    # prediction loss\n",
        "    accuracy_score = np.sum(prediction == ground_truth) / len(ground_truth) \n",
        "    print(\"       Accuracy_score : \", accuracy_score)"
      ],
      "metadata": {
        "colab": {
          "base_uri": "https://localhost:8080/"
        },
        "id": "GDXNt7bcztcr",
        "outputId": "056d9b22-46cb-422b-cf3c-96181b52cdb5"
      },
      "execution_count": 27,
      "outputs": [
        {
          "output_type": "stream",
          "name": "stdout",
          "text": [
            "Predict with train/test pair# :  0\n",
            "   Loading :  0.0\n",
            "   Loading :  0.35\n",
            "   Loading :  0.7\n",
            "       Accuracy_score :  0.751\n",
            "Predict with train/test pair# :  1\n",
            "   Loading :  0.0\n",
            "   Loading :  0.35\n",
            "   Loading :  0.7\n",
            "       Accuracy_score :  0.7555\n",
            "Predict with train/test pair# :  2\n",
            "   Loading :  0.0\n",
            "   Loading :  0.35\n",
            "   Loading :  0.7\n",
            "       Accuracy_score :  0.7585\n",
            "Predict with train/test pair# :  3\n",
            "   Loading :  0.0\n",
            "   Loading :  0.35\n",
            "   Loading :  0.7\n",
            "       Accuracy_score :  0.752\n",
            "Predict with train/test pair# :  4\n",
            "   Loading :  0.0\n",
            "   Loading :  0.35\n",
            "   Loading :  0.7\n",
            "       Accuracy_score :  0.7485\n",
            "Predict with train/test pair# :  5\n",
            "   Loading :  0.0\n",
            "   Loading :  0.35\n",
            "   Loading :  0.7\n",
            "       Accuracy_score :  0.756\n",
            "Predict with train/test pair# :  6\n",
            "   Loading :  0.0\n",
            "   Loading :  0.35\n",
            "   Loading :  0.7\n",
            "       Accuracy_score :  0.759\n",
            "Predict with train/test pair# :  7\n",
            "   Loading :  0.0\n",
            "   Loading :  0.35\n",
            "   Loading :  0.7\n",
            "       Accuracy_score :  0.7615\n",
            "Predict with train/test pair# :  8\n",
            "   Loading :  0.0\n",
            "   Loading :  0.35\n",
            "   Loading :  0.7\n",
            "       Accuracy_score :  0.7465\n",
            "Predict with train/test pair# :  9\n",
            "   Loading :  0.0\n",
            "   Loading :  0.35\n",
            "   Loading :  0.7\n",
            "       Accuracy_score :  0.739\n"
          ]
        }
      ]
    },
    {
      "cell_type": "code",
      "source": [
        "# # set k-NN model\n",
        "# # window_size = 5\n",
        "# # clf = KNN(window_size)\n",
        "\n",
        "# num_of_test_input = 2000\n",
        "# num_of_datapairs = 10\n",
        "\n",
        "# for i in range(num_of_datapairs):\n",
        "#     accuracy = []\n",
        "    \n",
        "#     for ws in range(10):\n",
        "#         window_size = 2*ws + 1\n",
        "#         clf = KNN(window_size)\n",
        "        \n",
        "#         clf.fit(X_train[i][0:], y_train[i][0:])\n",
        "\n",
        "#         # predict \n",
        "#         prediction = clf.predict(X_test[i][0:num_of_test_input])\n",
        "        \n",
        "#         ground_truth = y_test[i][0:num_of_test_input]\n",
        "#         # print(prediction)\n",
        "#         # print(ground_truth)\n",
        "#         # prediction loss\n",
        "#         accuracy_score = np.sum(prediction == ground_truth) / len(ground_truth) \n",
        "#         accuracy.append(accuracy_score)\n",
        "#         # print(\"Accuracy_score : \", accuracy_score)\n",
        "        \n",
        "#     # plot graph\n",
        "#     plt.figure(figsize=(10,8))\n",
        "#     plt.title('accurracy with data pair#')\n",
        "#     plt.xlabel('window size')\n",
        "#     plt.ylabel('accurracy')\n",
        "#     plt.plot(accuracy)"
      ],
      "metadata": {
        "id": "gjb5wb57s6-9"
      },
      "execution_count": 28,
      "outputs": []
    },
    {
      "cell_type": "markdown",
      "source": [
        "# For additional prediction test"
      ],
      "metadata": {
        "id": "HV1JVtkA_S1y"
      }
    },
    {
      "cell_type": "code",
      "source": [
        "# import pandas as pd\n",
        "# import os\n",
        "# import numpy as np\n",
        "# from collections import Counter\n",
        "# from sklearn.model_selection import train_test_split\n",
        "# import matplotlib.pyplot as plt\n",
        "\n",
        "# ####################################################\n",
        "# # load train data\n",
        "# ####################################################\n",
        "# directory_data = './'\n",
        "# filename_data = 'satisfaction_data.csv'\n",
        "# train_dataset = df.to_numpy() # pandas dataframe -> numpy array\n",
        "\n",
        "# # get mean and std of train data and normalize\n",
        "# tot_data = train_dataset[:,:6]\n",
        "# label = train_dataset[:,6]\n",
        "# col_mean = tot_data.sum(axis = 0) / len(tot_data)\n",
        "# col_std = np.std(tot_data, dtype=np.float64, axis = 0)\n",
        "\n",
        "# normalized_tot_data = (tot_data - col_mean)/col_std\n",
        "\n",
        "# train_dataset[:,:6] = normalized_tot_data\n",
        "\n",
        "# print(\"Shape of train dataset : \", train_dataset.shape)\n",
        "# print(\"Mean of train dataset : \", col_mean)\n",
        "# print(\"Std of train dataset : \", col_std)\n",
        "# print(\"Examples of normalized train dataset : \\n\", train_dataset[0:3])\n",
        "\n",
        "# # split feature and label\n",
        "# X_train = train_dataset[:,:6]\n",
        "# y_train = train_dataset[:,6]\n",
        "\n",
        "# ####################################################\n",
        "# # load test data\n",
        "# ####################################################\n",
        "# filename_data = 'test_satisfaction_data.csv'\n",
        "# df = pd.read_csv(os.path.join(directory_data, filename_data), header=None)\n",
        "# train_dataset = df.to_numpy() # pandas dataframe -> numpy array\n",
        "\n",
        "# print(\"Shape of test dataset : \", train_dataset.shape)\n",
        "\n",
        "# # normalizae test dataset\n",
        "# # split feature and label\n",
        "# X_test = train_dataset[:,:6]\n",
        "# y_test = train_dataset[:,6]\n",
        "# normalized_tot_data = (tot_data - col_mean)/col_std\n",
        "\n",
        "# X_test = normalized_tot_data\n",
        "# print(\"Examples of normalized dataset : \\n\", X_test[0:3])\n",
        "\n",
        "\n",
        "# # set k-NN model\n",
        "# window_size = 5\n",
        "# clf = KNN(window_size)\n",
        "# clf.fit(X_train[0:], y_train[0:])\n",
        "\n",
        "# # predict \n",
        "# prediction = clf.predict(X_test[0:])\n",
        "\n",
        "# # prediction loss\n",
        "# ground_truth = y_test[0:]\n",
        "# accuracy_score = np.sum(prediction == ground_truth) / len(ground_truth) \n",
        "\n",
        "# print(\"Additional test accuracy score : \", accuracy_score)  "
      ],
      "metadata": {
        "colab": {
          "base_uri": "https://localhost:8080/",
          "height": 722
        },
        "id": "XXJ0fcXZs5T9",
        "outputId": "1cd5883c-4654-4cf4-efb2-c617841b7131"
      },
      "execution_count": 29,
      "outputs": [
        {
          "output_type": "stream",
          "name": "stdout",
          "text": [
            "Shape of train dataset :  (20000, 7)\n",
            "Mean of train dataset :  [43.22015 2.3586 1.1708 184706.98085 39.4344 10.30435]\n",
            "Std of train dataset :  [1.18426131e+01 1.13679639e+00 5.64382282e-01 1.01123790e+05\n",
            " 1.28767036e+01 2.45487700e+00]\n",
            "Examples of normalized train dataset : \n",
            " [[-0.27191211812494154 -0.3154478691949687 -0.3026317542391366\n",
            "  -0.9674773980382068 -1.1209701180688758 -0.531330083269184\n",
            "  'unsatisfied']\n",
            " [-0.27191211812494154 -0.3154478691949687 -0.3026317542391366\n",
            "  0.7378681063973553 1.1311590611140072 -0.12397769835011761 'satisfied']\n",
            " [-0.27191211812494154 -0.3154478691949687 -0.3026317542391366\n",
            "  0.7130470429292789 0.27690316556187916 1.5054318413261476 'satisfied']]\n",
            "Shape of test dataset :  (3135, 7)\n",
            "Examples of normalized dataset : \n",
            " [[-3.6725055454438134 -2.352266320309256 -2.6106981061887478\n",
            "  -1.8265528719093793 -3.1495149108780853 -4.413940124139729]\n",
            " [-3.6725055454438134 -2.352266320309256 -2.6106981061887478\n",
            "  -1.8265360079695383 -2.9746153991633624 -4.2480041586404775]\n",
            " [-3.6725055454438134 -2.352266320309256 -2.6106981061887478\n",
            "  -1.826536253421806 -3.0409565932620506 -3.584260296643473]]\n",
            "   Loading :  0.0\n"
          ]
        },
        {
          "output_type": "error",
          "ename": "KeyboardInterrupt",
          "evalue": "ignored",
          "traceback": [
            "\u001b[0;31m---------------------------------------------------------------------------\u001b[0m",
            "\u001b[0;31mKeyboardInterrupt\u001b[0m                         Traceback (most recent call last)",
            "\u001b[0;32m<ipython-input-29-e8ae5644cf59>\u001b[0m in \u001b[0;36m<module>\u001b[0;34m()\u001b[0m\n\u001b[1;32m     57\u001b[0m \u001b[0;34m\u001b[0m\u001b[0m\n\u001b[1;32m     58\u001b[0m \u001b[0;31m# predict\u001b[0m\u001b[0;34m\u001b[0m\u001b[0;34m\u001b[0m\u001b[0;34m\u001b[0m\u001b[0m\n\u001b[0;32m---> 59\u001b[0;31m \u001b[0mprediction\u001b[0m \u001b[0;34m=\u001b[0m \u001b[0mclf\u001b[0m\u001b[0;34m.\u001b[0m\u001b[0mpredict\u001b[0m\u001b[0;34m(\u001b[0m\u001b[0mX_test\u001b[0m\u001b[0;34m[\u001b[0m\u001b[0;36m0\u001b[0m\u001b[0;34m:\u001b[0m\u001b[0;34m]\u001b[0m\u001b[0;34m)\u001b[0m\u001b[0;34m\u001b[0m\u001b[0;34m\u001b[0m\u001b[0m\n\u001b[0m\u001b[1;32m     60\u001b[0m \u001b[0;34m\u001b[0m\u001b[0m\n\u001b[1;32m     61\u001b[0m \u001b[0;31m# prediction loss\u001b[0m\u001b[0;34m\u001b[0m\u001b[0;34m\u001b[0m\u001b[0;34m\u001b[0m\u001b[0m\n",
            "\u001b[0;32m<ipython-input-26-45e3012a14c8>\u001b[0m in \u001b[0;36mpredict\u001b[0;34m(self, _X_test)\u001b[0m\n\u001b[1;32m     30\u001b[0m         \u001b[0;32mfor\u001b[0m \u001b[0mj\u001b[0m \u001b[0;32min\u001b[0m \u001b[0mrange\u001b[0m\u001b[0;34m(\u001b[0m\u001b[0mlen\u001b[0m\u001b[0;34m(\u001b[0m\u001b[0mself\u001b[0m\u001b[0;34m.\u001b[0m\u001b[0mX_train\u001b[0m\u001b[0;34m)\u001b[0m\u001b[0;34m)\u001b[0m\u001b[0;34m:\u001b[0m\u001b[0;34m\u001b[0m\u001b[0;34m\u001b[0m\u001b[0m\n\u001b[1;32m     31\u001b[0m             \u001b[0;31m# get distance with every data samples\u001b[0m\u001b[0;34m\u001b[0m\u001b[0;34m\u001b[0m\u001b[0;34m\u001b[0m\u001b[0m\n\u001b[0;32m---> 32\u001b[0;31m             \u001b[0mdist\u001b[0m \u001b[0;34m=\u001b[0m \u001b[0mself\u001b[0m\u001b[0;34m.\u001b[0m\u001b[0mdistance\u001b[0m\u001b[0;34m(\u001b[0m\u001b[0m_X_test\u001b[0m\u001b[0;34m[\u001b[0m\u001b[0mi\u001b[0m\u001b[0;34m]\u001b[0m \u001b[0;34m,\u001b[0m \u001b[0mself\u001b[0m\u001b[0;34m.\u001b[0m\u001b[0mX_train\u001b[0m\u001b[0;34m[\u001b[0m\u001b[0mj\u001b[0m\u001b[0;34m]\u001b[0m\u001b[0;34m)\u001b[0m\u001b[0;34m\u001b[0m\u001b[0;34m\u001b[0m\u001b[0m\n\u001b[0m\u001b[1;32m     33\u001b[0m             \u001b[0md\u001b[0m\u001b[0;34m.\u001b[0m\u001b[0mappend\u001b[0m\u001b[0;34m(\u001b[0m\u001b[0;34m[\u001b[0m\u001b[0mdist\u001b[0m\u001b[0;34m,\u001b[0m \u001b[0mj\u001b[0m\u001b[0;34m]\u001b[0m\u001b[0;34m)\u001b[0m\u001b[0;34m\u001b[0m\u001b[0;34m\u001b[0m\u001b[0m\n\u001b[1;32m     34\u001b[0m \u001b[0;34m\u001b[0m\u001b[0m\n",
            "\u001b[0;31mKeyboardInterrupt\u001b[0m: "
          ]
        }
      ]
    }
  ]
}