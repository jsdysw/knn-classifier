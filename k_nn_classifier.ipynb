{
  "nbformat": 4,
  "nbformat_minor": 0,
  "metadata": {
    "colab": {
      "name": "k-nn-classifier.ipynb",
      "provenance": [],
      "collapsed_sections": [],
      "authorship_tag": "ABX9TyNGQHifbXhtOH1Wb4xRyLXD",
      "include_colab_link": true
    },
    "kernelspec": {
      "name": "python3",
      "display_name": "Python 3"
    },
    "language_info": {
      "name": "python"
    },
    "accelerator": "GPU"
  },
  "cells": [
    {
      "cell_type": "markdown",
      "metadata": {
        "id": "view-in-github",
        "colab_type": "text"
      },
      "source": [
        "<a href=\"https://colab.research.google.com/github/jsdysw/knn-classifier/blob/master/k_nn_classifier.ipynb\" target=\"_parent\"><img src=\"https://colab.research.google.com/assets/colab-badge.svg\" alt=\"Open In Colab\"/></a>"
      ]
    },
    {
      "cell_type": "markdown",
      "source": [
        "# Libraries"
      ],
      "metadata": {
        "id": "4cyzv11STyJz"
      }
    },
    {
      "cell_type": "code",
      "source": [
        "import pandas as pd\n",
        "import os\n",
        "import numpy as np\n",
        "from collections import Counter\n",
        "from sklearn.model_selection import train_test_split\n",
        "import matplotlib.pyplot as plt"
      ],
      "metadata": {
        "id": "CUnRTuxuiaqg"
      },
      "execution_count": 34,
      "outputs": []
    },
    {
      "cell_type": "markdown",
      "source": [
        "# Read dataset\n",
        "feature vector X = {f1, f2, f3, f4, f5, f6}\n",
        "\n",
        "class vector C = {\"satisfied\", \"unsatisfied\"}"
      ],
      "metadata": {
        "id": "7RUz0nvMo0IH"
      }
    },
    {
      "cell_type": "code",
      "execution_count": 35,
      "metadata": {
        "colab": {
          "base_uri": "https://localhost:8080/"
        },
        "id": "3hLaFfcVnuff",
        "outputId": "10fbd631-eb68-4f97-80b4-d114dd5af023"
      },
      "outputs": [
        {
          "output_type": "stream",
          "name": "stdout",
          "text": [
            "Examples of dataset : \n",
            " [[40 2 1 86872 25 9 'unsatisfied']\n",
            " [40 2 1 259323 54 10 'satisfied']\n",
            " [40 2 1 256813 43 14 'satisfied']]\n"
          ]
        }
      ],
      "source": [
        "# load satisfaction_data.csv from the local path\n",
        "directory_data = './'\n",
        "filename_data = 'satisfaction_data.csv'\n",
        "df = pd.read_csv(os.path.join(directory_data, filename_data), header=None)\n",
        "dataset = df.to_numpy() # pandas dataframe -> numpy array\n",
        "\n",
        "print(\"Examples of dataset : \\n\", dataset[0:3])"
      ]
    },
    {
      "cell_type": "markdown",
      "source": [
        "# Generate 10 different train/test dataset pairs randomly\n",
        "train data : test data = 9 : 1"
      ],
      "metadata": {
        "id": "fhf8s7M2D9bj"
      }
    },
    {
      "cell_type": "code",
      "source": [
        "fold_size = int(len(dataset) / 10)\n",
        "fold_num = 10\n",
        "\n",
        "X_dataset = dataset[:,:6]\n",
        "y_dataset = dataset[:,6]\n",
        "\n",
        "X_train = []\n",
        "y_train = []\n",
        "X_test = []\n",
        "y_test = []\n",
        "\n",
        "for i in range(fold_num):\n",
        "    X_test.append(X_dataset[i*fold_size:(i+1)*fold_size])\n",
        "    y_test.append(y_dataset[i*fold_size:(i+1)*fold_size])\n",
        "\n",
        "    xa = X_dataset[:i*fold_size]\n",
        "    xb = X_dataset[(i+1)*fold_size:]\n",
        "\n",
        "    ya = y_dataset[:i*fold_size]\n",
        "    yb = y_dataset[(i+1)*fold_size:]\n",
        "\n",
        "    # print(yb)\n",
        "\n",
        "    X_train.append(np.concatenate((xa,xb)))\n",
        "    y_train.append(np.concatenate((ya,yb)))\n",
        "\n",
        "\n",
        "print(\"Shape of X_test\", X_test[9].shape)\n",
        "print(\"Shape of y_test\", y_test[9].shape)\n",
        "\n",
        "print(\"Shape of X_train\", X_train[9].shape)\n",
        "print(\"Shape of y_train\", y_train[9].shape)"
      ],
      "metadata": {
        "id": "W0aBRVFwEEHs",
        "outputId": "f8a4d6bd-8882-4ca3-f972-6381577a712a",
        "colab": {
          "base_uri": "https://localhost:8080/"
        }
      },
      "execution_count": 43,
      "outputs": [
        {
          "output_type": "stream",
          "name": "stdout",
          "text": [
            "Shape of X_test (2000, 6)\n",
            "Shape of y_test (2000,)\n",
            "Shape of X_train (18000, 6)\n",
            "Shape of y_train (18000,)\n"
          ]
        }
      ]
    },
    {
      "cell_type": "markdown",
      "source": [
        "# Data preprocessing (normalize)"
      ],
      "metadata": {
        "id": "C40EydrXi8kS"
      }
    },
    {
      "cell_type": "code",
      "source": [
        "col_means = []\n",
        "col_std = []\n",
        "\n",
        "for i in range(10):\n",
        "    col_means.append(X_train[i].sum(axis = 0) / len(X_train[i]))\n",
        "    col_std.append(np.std(X_train[i], dtype=np.float64, axis = 0))\n",
        "    \n",
        "    normalized_train_data = (X_train[i] - col_means[i])/col_std[i]\n",
        "    X_train[i] = normalized_train_data\n",
        "\n",
        "    normalized_test_data = (X_test[i] - col_means[i])/col_std[i]\n",
        "    X_test[i] = normalized_test_data\n",
        "\n",
        "print(\"Examples of normalized train dataset : \\n\", X_train[i][0:2])\n",
        "print(\"Examples of normalized test dataset : \\n\", X_test[i][0:2])"
      ],
      "metadata": {
        "id": "skLWq6B1i7dv",
        "colab": {
          "base_uri": "https://localhost:8080/"
        },
        "outputId": "83a9684e-b06e-49ea-e74f-2bf91fa1ada7"
      },
      "execution_count": null,
      "outputs": [
        {
          "output_type": "stream",
          "name": "stdout",
          "text": [
            "Examples of normalized train dataset : \n",
            " [[-0.6945397033416779 -0.31574343633846397 -0.3019402096500801\n",
            "  0.02748658333036758 0.7415145737616039 -0.12740830475030657]\n",
            " [-0.27039044159434794 -0.31574343633846397 -0.3019402096500801\n",
            "  0.7673680620037387 -0.3464528712782156 -0.5351148799512876]]\n",
            "Examples of normalized test dataset : \n",
            " [[0.5779080819003121 1.4473655613635226 -0.3019402096500801\n",
            "  0.5291644053397205 -0.3464528712782156 1.9111245712545988]\n",
            " [0.40824837720138 -1.1972979351894573 -0.3019402096500801\n",
            "  -0.8367170394699519 0.35295477196166836 0.6880048456516555]]\n"
          ]
        }
      ]
    },
    {
      "cell_type": "markdown",
      "source": [
        "# kNN model\n",
        "distance between two data is defined as Euclidean(L2 norm)"
      ],
      "metadata": {
        "id": "ulJwjUUH8QO0"
      }
    },
    {
      "cell_type": "code",
      "source": [
        "class KNN:\n",
        "  def __init__(self, k):\n",
        "    self.k = k\n",
        "  \n",
        "  def fit(self, X, y):\n",
        "    self.X_train = X\n",
        "    self.y_train = y\n",
        "\n",
        "  # distance\n",
        "  def distance(self, data1, data2) :\n",
        "    sub = data1 - data2\n",
        "    dis = np.sum(np.square(sub)) ** 0.5\n",
        "    # print(\"data1 : \", data1)\n",
        "    # print(\"data2 : \", data2)\n",
        "    # print(\"sub\", sub)\n",
        "    # print(\"dis\", dis)\n",
        "    return dis\n",
        "\n",
        "\n",
        "  def predict(self, _X_test):\n",
        "    final_output = []\n",
        "\n",
        "    for i in range(len(_X_test)):\n",
        "        if i % 300 == 0 :\n",
        "          print(\"   Loading : \", i/len(_X_test))\n",
        "\n",
        "        d = []\n",
        "        votes = []\n",
        "\n",
        "        for j in range(len(self.X_train)):\n",
        "            # get distance with every data samples\n",
        "            dist = self.distance(_X_test[i] , self.X_train[j])\n",
        "            d.append([dist, j])\n",
        "        \n",
        "        d.sort()\n",
        "        d = d[0:self.k]\n",
        "\n",
        "        # vote\n",
        "        for d, j in d:\n",
        "            votes.append(self.y_train[j])  \n",
        "        ans = Counter(votes).most_common(1)[0][0]\n",
        "        final_output.append(ans)\n",
        "      \n",
        "    return final_output\n"
      ],
      "metadata": {
        "id": "NxP3eNab8PYG"
      },
      "execution_count": null,
      "outputs": []
    },
    {
      "cell_type": "markdown",
      "source": [
        "# Predict satisfaction with 10 dataset pairs"
      ],
      "metadata": {
        "id": "bfASzFDaAqnq"
      }
    },
    {
      "cell_type": "code",
      "source": [
        "# set k-NN model\n",
        "window_size = 3\n",
        "clf = KNN(window_size)\n",
        "\n",
        "num_of_test_input = fold_size\n",
        "num_of_datapairs = fold_num\n",
        "prediction_arr = []\n",
        "\n",
        "for i in range(num_of_datapairs):\n",
        "    print(\"Predict with train/test pair# : \", i)\n",
        "\n",
        "    clf.fit(X_train[i][0:], y_train[i][0:])\n",
        "    \n",
        "    # predict \n",
        "    prediction = clf.predict(X_test[i][0:num_of_test_input])\n",
        "    prediction_arr.append(prediction)\n",
        "    \n",
        "    ground_truth = y_test[i][0:num_of_test_input]\n",
        "    # print(prediction)\n",
        "    # print(ground_truth)\n",
        "    # prediction loss\n",
        "    accuracy_score = np.sum(prediction == ground_truth) / len(ground_truth) \n",
        "    print(\"       Accuracy_score : \", accuracy_score)\n",
        "\n",
        "\n",
        "# export preiction result .csv \n",
        "df = pd.DataFrame(X_dataset)\n",
        "df.insert(6,\"class\" ,prediction_arr)\n",
        "df.to_csv(r'./20174089.csv', index = False)"
      ],
      "metadata": {
        "colab": {
          "base_uri": "https://localhost:8080/"
        },
        "id": "GDXNt7bcztcr",
        "outputId": "056d9b22-46cb-422b-cf3c-96181b52cdb5"
      },
      "execution_count": null,
      "outputs": [
        {
          "output_type": "stream",
          "name": "stdout",
          "text": [
            "Predict with train/test pair# :  0\n",
            "   Loading :  0.0\n",
            "   Loading :  0.35\n",
            "   Loading :  0.7\n",
            "       Accuracy_score :  0.751\n",
            "Predict with train/test pair# :  1\n",
            "   Loading :  0.0\n",
            "   Loading :  0.35\n",
            "   Loading :  0.7\n",
            "       Accuracy_score :  0.7555\n",
            "Predict with train/test pair# :  2\n",
            "   Loading :  0.0\n",
            "   Loading :  0.35\n",
            "   Loading :  0.7\n",
            "       Accuracy_score :  0.7585\n",
            "Predict with train/test pair# :  3\n",
            "   Loading :  0.0\n",
            "   Loading :  0.35\n",
            "   Loading :  0.7\n",
            "       Accuracy_score :  0.752\n",
            "Predict with train/test pair# :  4\n",
            "   Loading :  0.0\n",
            "   Loading :  0.35\n",
            "   Loading :  0.7\n",
            "       Accuracy_score :  0.7485\n",
            "Predict with train/test pair# :  5\n",
            "   Loading :  0.0\n",
            "   Loading :  0.35\n",
            "   Loading :  0.7\n",
            "       Accuracy_score :  0.756\n",
            "Predict with train/test pair# :  6\n",
            "   Loading :  0.0\n",
            "   Loading :  0.35\n",
            "   Loading :  0.7\n",
            "       Accuracy_score :  0.759\n",
            "Predict with train/test pair# :  7\n",
            "   Loading :  0.0\n",
            "   Loading :  0.35\n",
            "   Loading :  0.7\n",
            "       Accuracy_score :  0.7615\n",
            "Predict with train/test pair# :  8\n",
            "   Loading :  0.0\n",
            "   Loading :  0.35\n",
            "   Loading :  0.7\n",
            "       Accuracy_score :  0.7465\n",
            "Predict with train/test pair# :  9\n",
            "   Loading :  0.0\n",
            "   Loading :  0.35\n",
            "   Loading :  0.7\n",
            "       Accuracy_score :  0.739\n"
          ]
        }
      ]
    },
    {
      "cell_type": "code",
      "source": [
        ""
      ],
      "metadata": {
        "id": "OPoMuFzVcDM-"
      },
      "execution_count": null,
      "outputs": []
    }
  ]
}