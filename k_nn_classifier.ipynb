{
  "nbformat": 4,
  "nbformat_minor": 0,
  "metadata": {
    "colab": {
      "name": "k-nn-classifier.ipynb",
      "provenance": [],
      "authorship_tag": "ABX9TyNuuArEeLEHRNl0P3Xj3faW",
      "include_colab_link": true
    },
    "kernelspec": {
      "name": "python3",
      "display_name": "Python 3"
    },
    "language_info": {
      "name": "python"
    }
  },
  "cells": [
    {
      "cell_type": "markdown",
      "metadata": {
        "id": "view-in-github",
        "colab_type": "text"
      },
      "source": [
        "<a href=\"https://colab.research.google.com/github/jsdysw/knn-classifier/blob/master/k_nn_classifier.ipynb\" target=\"_parent\"><img src=\"https://colab.research.google.com/assets/colab-badge.svg\" alt=\"Open In Colab\"/></a>"
      ]
    },
    {
      "cell_type": "markdown",
      "source": [
        "# Dataset analysis\n",
        "feature vector X = {f1, f2, f3, f4, f5, f6}\n",
        "\n",
        "class vector C = {\"satisfied\", \"unsatisfied\"}"
      ],
      "metadata": {
        "id": "7RUz0nvMo0IH"
      }
    },
    {
      "cell_type": "code",
      "execution_count": 18,
      "metadata": {
        "colab": {
          "base_uri": "https://localhost:8080/"
        },
        "id": "3hLaFfcVnuff",
        "outputId": "014642b1-69ae-45a1-934d-1c4a23ec2f87"
      },
      "outputs": [
        {
          "output_type": "stream",
          "name": "stdout",
          "text": [
            "Examples of dataset : \n",
            "    f1  f2  f3      f4  f5  f6        class\n",
            "0  40   2   1   86872  25   9  unsatisfied\n",
            "1  40   2   1  259323  54  10    satisfied\n",
            "2  40   2   1  256813  43  14    satisfied\n",
            "3  70   2   1  118793  51  13    satisfied\n",
            "4  40   2   2  398918  28   9  unsatisfied\n",
            "\n",
            "Shape of the dataset :  (20000, 7)\n",
            "Shape of test dataset :  (18000, 7)\n",
            "Shape of train dataset :  (2000, 7)\n"
          ]
        }
      ],
      "source": [
        "import pandas as pd\n",
        "\n",
        "# load satisfaction_data.csv from the github repository\n",
        "url = 'https://raw.githubusercontent.com/jsdysw/knn-classifier/master/satisfaction_data.csv?token=GHSAT0AAAAAABQYSI53RANCS5CDDMW3Y3OIYTRKKOQ' \n",
        "dataset = pd.read_csv(url, names=['f1', 'f2', 'f3', 'f4', 'f5', 'f6', 'class'])\n",
        "print(\"Examples of dataset : \\n\", dataset[0:5])\n",
        "\n",
        "# split data into train_data(9) and test_data(1)\n",
        "test_data = dataset[0:18000]\n",
        "train_data = dataset[18000:]\n",
        "\n",
        "print(\"\\nShape of the dataset : \", dataset.shape)\n",
        "print(\"Shape of test dataset : \", test_data.shape)\n",
        "print(\"Shape of train dataset : \", train_data.shape)\n"
      ]
    },
    {
      "cell_type": "code",
      "source": [
        ""
      ],
      "metadata": {
        "id": "nOFXIhcFwl5I"
      },
      "execution_count": null,
      "outputs": []
    }
  ]
}