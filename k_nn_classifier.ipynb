{
  "nbformat": 4,
  "nbformat_minor": 0,
  "metadata": {
    "colab": {
      "name": "k-nn-classifier.ipynb",
      "provenance": [],
      "collapsed_sections": [],
      "authorship_tag": "ABX9TyNA8bf4ptVR2it6ASRI6e7f",
      "include_colab_link": true
    },
    "kernelspec": {
      "name": "python3",
      "display_name": "Python 3"
    },
    "language_info": {
      "name": "python"
    },
    "accelerator": "GPU"
  },
  "cells": [
    {
      "cell_type": "markdown",
      "metadata": {
        "id": "view-in-github",
        "colab_type": "text"
      },
      "source": [
        "<a href=\"https://colab.research.google.com/github/jsdysw/knn-classifier/blob/master/k_nn_classifier.ipynb\" target=\"_parent\"><img src=\"https://colab.research.google.com/assets/colab-badge.svg\" alt=\"Open In Colab\"/></a>"
      ]
    },
    {
      "cell_type": "markdown",
      "source": [
        "# Libraries"
      ],
      "metadata": {
        "id": "4cyzv11STyJz"
      }
    },
    {
      "cell_type": "code",
      "source": [
        "import pandas as pd\n",
        "import os\n",
        "import numpy as np\n",
        "from collections import Counter\n",
        "from sklearn.model_selection import train_test_split\n",
        "import matplotlib.pyplot as plt"
      ],
      "metadata": {
        "id": "CUnRTuxuiaqg"
      },
      "execution_count": 1,
      "outputs": []
    },
    {
      "cell_type": "markdown",
      "source": [
        "# Read dataset\n",
        "feature vector X = {f1, f2, f3, f4, f5, f6}\n",
        "\n",
        "class vector C = {\"satisfied\", \"unsatisfied\"}"
      ],
      "metadata": {
        "id": "7RUz0nvMo0IH"
      }
    },
    {
      "cell_type": "code",
      "execution_count": 18,
      "metadata": {
        "colab": {
          "base_uri": "https://localhost:8080/"
        },
        "id": "3hLaFfcVnuff",
        "outputId": "ee4cd998-3653-43ae-e52b-064c026f9764"
      },
      "outputs": [
        {
          "output_type": "stream",
          "name": "stdout",
          "text": [
            "Examples of dataset : \n",
            " [[40 2 1 86872 25 9 'unsatisfied']\n",
            " [40 2 1 259323 54 10 'satisfied']\n",
            " [40 2 1 256813 43 14 'satisfied']]\n"
          ]
        }
      ],
      "source": [
        "# load satisfaction_data.csv from the local path\n",
        "directory_data = './'\n",
        "filename_data = 'satisfaction_data.csv'\n",
        "df = pd.read_csv(os.path.join(directory_data, filename_data), header=None)\n",
        "dataset = df.to_numpy() # pandas dataframe -> numpy array\n",
        "\n",
        "print(\"Examples of dataset : \\n\", dataset[0:3])"
      ]
    },
    {
      "cell_type": "markdown",
      "source": [
        "# Generate 10 different train/test dataset pairs randomly\n",
        "train data : test data = 9 : 1"
      ],
      "metadata": {
        "id": "fhf8s7M2D9bj"
      }
    },
    {
      "cell_type": "code",
      "source": [
        "X_dataset = dataset[:,:6]\n",
        "y_dataset = dataset[:,6]\n",
        "\n",
        "X_train = []\n",
        "y_train = []\n",
        "X_test = []\n",
        "y_test = []\n",
        "\n",
        "for i in range(10):\n",
        "    xtrain, xtest, ytrain, ytest  = train_test_split(X_dataset, y_dataset, test_size=0.1, stratify=y_dataset)\n",
        "    X_train.append(xtrain)\n",
        "    y_train.append(ytrain)\n",
        "    X_test.append(xtest)\n",
        "    y_test.append(ytest)\n",
        "\n",
        "# print(\"Examples of dataset : \\n\", X_test[0][0:3])\n",
        "\n",
        "# df = pd.DataFrame(X_test[0])\n",
        "# df.insert(6,\"class\" ,y_test[0])\n",
        "# df.to_csv(r'./pair0_test.csv', index = False)"
      ],
      "metadata": {
        "id": "W0aBRVFwEEHs"
      },
      "execution_count": 19,
      "outputs": []
    },
    {
      "cell_type": "markdown",
      "source": [
        "# Data preprocessing (normalize)"
      ],
      "metadata": {
        "id": "C40EydrXi8kS"
      }
    },
    {
      "cell_type": "code",
      "source": [
        "col_means = []\n",
        "col_std = []\n",
        "\n",
        "for i in range(10):\n",
        "    col_means.append(X_train[i].sum(axis = 0) / len(X_train[i]))\n",
        "    col_std.append(np.std(X_train[i], dtype=np.float64, axis = 0))\n",
        "    \n",
        "    normalized_train_data = (X_train[i] - col_means[i])/col_std[i]\n",
        "    X_train[i] = normalized_train_data\n",
        "\n",
        "    normalized_test_data = (X_test[i] - col_means[i])/col_std[i]\n",
        "    X_test[i] = normalized_test_data\n",
        "\n",
        "print(\"Examples of normalized train dataset : \\n\", X_train[i][0:2])\n",
        "print(\"Examples of normalized test dataset : \\n\", X_test[i][0:2])"
      ],
      "metadata": {
        "id": "skLWq6B1i7dv",
        "colab": {
          "base_uri": "https://localhost:8080/"
        },
        "outputId": "83a9684e-b06e-49ea-e74f-2bf91fa1ada7"
      },
      "execution_count": 20,
      "outputs": [
        {
          "output_type": "stream",
          "name": "stdout",
          "text": [
            "Examples of normalized train dataset : \n",
            " [[-0.6945397033416779 -0.31574343633846397 -0.3019402096500801\n",
            "  0.02748658333036758 0.7415145737616039 -0.12740830475030657]\n",
            " [-0.27039044159434794 -0.31574343633846397 -0.3019402096500801\n",
            "  0.7673680620037387 -0.3464528712782156 -0.5351148799512876]]\n",
            "Examples of normalized test dataset : \n",
            " [[0.5779080819003121 1.4473655613635226 -0.3019402096500801\n",
            "  0.5291644053397205 -0.3464528712782156 1.9111245712545988]\n",
            " [0.40824837720138 -1.1972979351894573 -0.3019402096500801\n",
            "  -0.8367170394699519 0.35295477196166836 0.6880048456516555]]\n"
          ]
        }
      ]
    },
    {
      "cell_type": "markdown",
      "source": [
        "# kNN model\n",
        "distance between two data is defined as Euclidean(L2 norm)"
      ],
      "metadata": {
        "id": "ulJwjUUH8QO0"
      }
    },
    {
      "cell_type": "code",
      "source": [
        "class KNN:\n",
        "  def __init__(self, k):\n",
        "    self.k = k\n",
        "  \n",
        "  def fit(self, X, y):\n",
        "    self.X_train = X\n",
        "    self.y_train = y\n",
        "\n",
        "  # distance\n",
        "  def distance(self, data1, data2) :\n",
        "    sub = data1 - data2\n",
        "    dis = np.sum(np.square(sub)) ** 0.5\n",
        "    # print(\"data1 : \", data1)\n",
        "    # print(\"data2 : \", data2)\n",
        "    # print(\"sub\", sub)\n",
        "    # print(\"dis\", dis)\n",
        "    return dis\n",
        "\n",
        "\n",
        "  def predict(self, _X_test):\n",
        "    final_output = []\n",
        "\n",
        "    for i in range(len(_X_test)):\n",
        "        if i % 700 == 0 :\n",
        "          print(\"   Loading : \", i/len(_X_test))\n",
        "\n",
        "        d = []\n",
        "        votes = []\n",
        "\n",
        "        for j in range(len(self.X_train)):\n",
        "            # get distance with every data samples\n",
        "            dist = self.distance(_X_test[i] , self.X_train[j])\n",
        "            d.append([dist, j])\n",
        "        \n",
        "        d.sort()\n",
        "        d = d[0:self.k]\n",
        "\n",
        "        # vote\n",
        "        for d, j in d:\n",
        "            votes.append(self.y_train[j])  \n",
        "        ans = Counter(votes).most_common(1)[0][0]\n",
        "        final_output.append(ans)\n",
        "      \n",
        "    return final_output\n"
      ],
      "metadata": {
        "id": "NxP3eNab8PYG"
      },
      "execution_count": 31,
      "outputs": []
    },
    {
      "cell_type": "markdown",
      "source": [
        "# Predict satisfaction with 10 dataset pairs"
      ],
      "metadata": {
        "id": "bfASzFDaAqnq"
      }
    },
    {
      "cell_type": "code",
      "source": [
        "# set k-NN model\n",
        "window_size = 5\n",
        "clf = KNN(window_size)\n",
        "\n",
        "num_of_test_input = 2000\n",
        "num_of_datapairs = 10\n",
        "\n",
        "for i in range(num_of_datapairs):\n",
        "    print(\"Predict with train/test pair# : \", i)\n",
        "\n",
        "    clf.fit(X_train[i][0:], y_train[i][0:])\n",
        "    \n",
        "    # predict \n",
        "    prediction = clf.predict(X_test[i][0:num_of_test_input])\n",
        "        \n",
        "    ground_truth = y_test[i][0:num_of_test_input]\n",
        "    # print(prediction)\n",
        "    # print(ground_truth)\n",
        "    # prediction loss\n",
        "    accuracy_score = np.sum(prediction == ground_truth) / len(ground_truth) \n",
        "    print(\"       Accuracy_score : \", accuracy_score)"
      ],
      "metadata": {
        "colab": {
          "base_uri": "https://localhost:8080/"
        },
        "id": "GDXNt7bcztcr",
        "outputId": "056d9b22-46cb-422b-cf3c-96181b52cdb5"
      },
      "execution_count": null,
      "outputs": [
        {
          "output_type": "stream",
          "name": "stdout",
          "text": [
            "Predict with train/test pair# :  0\n",
            "   Loading :  0.0\n",
            "   Loading :  0.35\n",
            "   Loading :  0.7\n",
            "       Accuracy_score :  0.751\n",
            "Predict with train/test pair# :  1\n",
            "   Loading :  0.0\n",
            "   Loading :  0.35\n",
            "   Loading :  0.7\n",
            "       Accuracy_score :  0.7555\n",
            "Predict with train/test pair# :  2\n",
            "   Loading :  0.0\n",
            "   Loading :  0.35\n",
            "   Loading :  0.7\n",
            "       Accuracy_score :  0.7585\n",
            "Predict with train/test pair# :  3\n",
            "   Loading :  0.0\n",
            "   Loading :  0.35\n",
            "   Loading :  0.7\n",
            "       Accuracy_score :  0.752\n",
            "Predict with train/test pair# :  4\n",
            "   Loading :  0.0\n",
            "   Loading :  0.35\n",
            "   Loading :  0.7\n",
            "       Accuracy_score :  0.7485\n",
            "Predict with train/test pair# :  5\n",
            "   Loading :  0.0\n",
            "   Loading :  0.35\n",
            "   Loading :  0.7\n",
            "       Accuracy_score :  0.756\n",
            "Predict with train/test pair# :  6\n",
            "   Loading :  0.0\n",
            "   Loading :  0.35\n",
            "   Loading :  0.7\n",
            "       Accuracy_score :  0.759\n",
            "Predict with train/test pair# :  7\n",
            "   Loading :  0.0\n",
            "   Loading :  0.35\n",
            "   Loading :  0.7\n",
            "       Accuracy_score :  0.7615\n",
            "Predict with train/test pair# :  8\n",
            "   Loading :  0.0\n",
            "   Loading :  0.35\n",
            "   Loading :  0.7\n",
            "       Accuracy_score :  0.7465\n",
            "Predict with train/test pair# :  9\n",
            "   Loading :  0.0\n",
            "   Loading :  0.35\n",
            "   Loading :  0.7\n",
            "       Accuracy_score :  0.739\n"
          ]
        }
      ]
    },
    {
      "cell_type": "code",
      "source": [
        "# # set k-NN model\n",
        "# # window_size = 5\n",
        "# # clf = KNN(window_size)\n",
        "\n",
        "# num_of_test_input = 2000\n",
        "# num_of_datapairs = 10\n",
        "\n",
        "# for i in range(num_of_datapairs):\n",
        "#     accuracy = []\n",
        "    \n",
        "#     for ws in range(10):\n",
        "#         window_size = 2*ws + 1\n",
        "#         clf = KNN(window_size)\n",
        "        \n",
        "#         clf.fit(X_train[i][0:], y_train[i][0:])\n",
        "\n",
        "#         # predict \n",
        "#         prediction = clf.predict(X_test[i][0:num_of_test_input])\n",
        "        \n",
        "#         ground_truth = y_test[i][0:num_of_test_input]\n",
        "#         # print(prediction)\n",
        "#         # print(ground_truth)\n",
        "#         # prediction loss\n",
        "#         accuracy_score = np.sum(prediction == ground_truth) / len(ground_truth) \n",
        "#         accuracy.append(accuracy_score)\n",
        "#         # print(\"Accuracy_score : \", accuracy_score)\n",
        "        \n",
        "#     # plot graph\n",
        "#     plt.figure(figsize=(10,8))\n",
        "#     plt.title('accurracy with data pair#')\n",
        "#     plt.xlabel('window size')\n",
        "#     plt.ylabel('accurracy')\n",
        "#     plt.plot(accuracy)"
      ],
      "metadata": {
        "id": "gjb5wb57s6-9"
      },
      "execution_count": null,
      "outputs": []
    },
    {
      "cell_type": "markdown",
      "source": [
        "# Make another train/test dataset pair and export result into .csv"
      ],
      "metadata": {
        "id": "_Dt4hFCrS9oq"
      }
    },
    {
      "cell_type": "code",
      "source": [
        "X_dataset = dataset[:,:6]\n",
        "y_dataset = dataset[:,6]\n",
        "\n",
        "X_train, X_test, y_train, y_test  = train_test_split(X_dataset, y_dataset, test_size=0.1, stratify=y_dataset)\n",
        "X_test_original = X_test\n",
        "\n",
        "print(\"Examples of dataset : \\n\", X_test[0:3])\n",
        "\n",
        "# export test dataset .csv \n",
        "df = pd.DataFrame(X_test)\n",
        "df.insert(6,\"class\" ,y_test)\n",
        "df.to_csv(r'./test_dataset.csv', index = False)\n",
        "\n",
        "# export train dataset .csv \n",
        "df = pd.DataFrame(X_train)\n",
        "df.insert(6,\"class\" ,y_train)\n",
        "df.to_csv(r'./train_dataset.csv', index = False)"
      ],
      "metadata": {
        "colab": {
          "base_uri": "https://localhost:8080/"
        },
        "id": "9UDLexCpS876",
        "outputId": "98141cee-d497-4c85-fc67-a2c1ff07ba5e"
      },
      "execution_count": 26,
      "outputs": [
        {
          "output_type": "stream",
          "name": "stdout",
          "text": [
            "Examples of dataset : \n",
            " [[40 5 1 92178 61 7]\n",
            " [45 2 1 117186 33 13]\n",
            " [60 2 2 156980 21 9]]\n"
          ]
        }
      ]
    },
    {
      "cell_type": "code",
      "source": [
        "# normalize\n",
        "col_means = X_train.sum(axis = 0) / len(X_train)\n",
        "col_std = np.std(X_train, dtype=np.float64, axis = 0)\n",
        "    \n",
        "normalized_train_data = (X_train - col_means)/col_std\n",
        "X_train = normalized_train_data\n",
        "\n",
        "normalized_test_data = (X_test- col_means)/col_std\n",
        "X_test = normalized_test_data\n",
        "\n",
        "print(\"Examples of normalized train dataset : \\n\", X_train[0:1])\n",
        "print(\"Shape of train dataset : \\n\", X_train.shape)\n",
        "\n",
        "print(\"Examples of normalized test dataset : \\n\", X_test[0:1])\n",
        "print(\"Shape of test dataset : \\n\", X_test.shape)\n",
        "\n",
        "# set k-NN model\n",
        "window_size = 5\n",
        "clf = KNN(window_size)\n",
        "clf.fit(X_train[0:], y_train[0:])\n",
        "\n",
        "num_of_test_input = 2000\n",
        "    \n",
        "# predict \n",
        "prediction = clf.predict(X_test[0:num_of_test_input])\n",
        "ground_truth = y_test[0:num_of_test_input]\n",
        "   \n",
        "# prediction loss\n",
        "accuracy_score = np.sum(prediction == ground_truth) / len(ground_truth) \n",
        "print(\"       Accuracy_score : \", accuracy_score)"
      ],
      "metadata": {
        "colab": {
          "base_uri": "https://localhost:8080/"
        },
        "id": "z3EO66dMcbTi",
        "outputId": "37f321f7-8776-431b-d071-c7d6854ee3c0"
      },
      "execution_count": 29,
      "outputs": [
        {
          "output_type": "stream",
          "name": "stdout",
          "text": [
            "Examples of normalized train dataset : \n",
            " [[-2.3823678115222116 -0.3134079409904128 1.462509254732351\n",
            "  0.18625436821391314 -1.7379921120433612 -1.3446493854559411]]\n",
            "Shape of train dataset : \n",
            " (18000, 6)\n",
            "Examples of normalized test dataset : \n",
            " [[-0.2687448154771361 2.326846164077026 -0.3071308760274172\n",
            "  -0.9154160903661961 1.6750998592292792 -1.3446493854559411]]\n",
            "Shape of test dataset : \n",
            " (2000, 6)\n",
            "   Loading :  0.0\n",
            "   Loading :  0.35\n",
            "   Loading :  0.7\n",
            "       Accuracy_score :  0.759\n"
          ]
        }
      ]
    },
    {
      "cell_type": "code",
      "source": [
        "# export preiction result .csv \n",
        "df = pd.DataFrame(X_test_original)\n",
        "df.insert(6,\"class\" ,prediction)\n",
        "df.to_csv(r'./20174089.csv', index = False)"
      ],
      "metadata": {
        "id": "OPoMuFzVcDM-"
      },
      "execution_count": 30,
      "outputs": []
    },
    {
      "cell_type": "markdown",
      "source": [
        "# For additional prediction test"
      ],
      "metadata": {
        "id": "HV1JVtkA_S1y"
      }
    },
    {
      "cell_type": "code",
      "source": [
        "import pandas as pd\n",
        "import os\n",
        "import numpy as np\n",
        "from collections import Counter\n",
        "from sklearn.model_selection import train_test_split\n",
        "import matplotlib.pyplot as plt\n",
        "\n",
        "####################################################\n",
        "# load train data\n",
        "####################################################\n",
        "directory_data = './'\n",
        "filename_data = 'satisfaction_data.csv'\n",
        "df = pd.read_csv(os.path.join(directory_data, filename_data), header=None)\n",
        "train_dataset = df.to_numpy() # pandas dataframe -> numpy array\n",
        "\n",
        "# split feature and label\n",
        "X_train = train_dataset[:,:6]\n",
        "y_train = train_dataset[:,6]\n",
        "\n",
        "# get mean and std of train data and normalize\n",
        "col_mean = X_train.sum(axis = 0) / len(X_train)\n",
        "col_std = np.std(X_train, dtype=np.float64, axis = 0)\n",
        "\n",
        "# normalize\n",
        "normalized_tot_data = (X_train - col_mean)/col_std\n",
        "X_train = normalized_tot_data\n",
        "\n",
        "print(\"Shape of train dataset : \", train_dataset.shape)\n",
        "print(\"Mean of train dataset : \", col_mean)\n",
        "print(\"Std of train dataset : \", col_std)\n",
        "print(\"Examples of normalized train dataset : \\n\", train_dataset[0])\n",
        "\n",
        "\n",
        "####################################################\n",
        "# load test data\n",
        "####################################################\n",
        "filename_data = 'test_satisfaction_data.csv'\n",
        "df = pd.read_csv(os.path.join(directory_data, filename_data), header=None)\n",
        "test_dataset = df.to_numpy() # pandas dataframe -> numpy array\n",
        "\n",
        "print(\"Shape of test dataset : \", test_dataset.shape)\n",
        "\n",
        "# normalizae test dataset\n",
        "# split feature and label\n",
        "X_test = test_dataset[:,:6]\n",
        "y_test = test_dataset[:,6]\n",
        "\n",
        "normalized_tot_data = (X_test - col_mean)/col_std\n",
        "X_test = normalized_tot_data\n",
        "print(\"Examples of normalized dataset : \\n\", X_test[0])\n",
        "\n",
        "\n",
        "# set k-NN model\n",
        "window_size = 5\n",
        "clf = KNN(window_size)\n",
        "clf.fit(X_train, y_train)\n",
        "\n",
        "# predict \n",
        "prediction = clf.predict(X_test)\n",
        "\n",
        "# prediction loss\n",
        "ground_truth = y_test\n",
        "accuracy_score = np.sum(prediction == ground_truth) / len(ground_truth) \n",
        "\n",
        "print(\"Additional test accuracy score : \", accuracy_score)  "
      ],
      "metadata": {
        "id": "XXJ0fcXZs5T9",
        "colab": {
          "base_uri": "https://localhost:8080/"
        },
        "outputId": "11e792e6-ed17-47ee-9cc3-cd7668e55ae0"
      },
      "execution_count": 33,
      "outputs": [
        {
          "output_type": "stream",
          "name": "stdout",
          "text": [
            "Shape of train dataset :  (20000, 7)\n",
            "Mean of train dataset :  [43.22015 2.3586 1.1708 184706.98085 39.4344 10.30435]\n",
            "Std of train dataset :  [1.18426131e+01 1.13679639e+00 5.64382282e-01 1.01123790e+05\n",
            " 1.28767036e+01 2.45487700e+00]\n",
            "Examples of normalized train dataset : \n",
            " [40 2 1 86872 25 9 'unsatisfied']\n",
            "Shape of test dataset :  (30, 7)\n",
            "Examples of normalized dataset : \n",
            " [-0.27191211812494154 -0.3154478691949687 -0.3026317542391366\n",
            " -0.9674773980382068 -1.1209701180688758 -0.531330083269184]\n",
            "   Loading :  0.0\n",
            "   Loading :  0.3333333333333333\n",
            "   Loading :  0.6666666666666666\n",
            "Additional test accuracy score :  0.7\n"
          ]
        }
      ]
    }
  ]
}