{
  "nbformat": 4,
  "nbformat_minor": 0,
  "metadata": {
    "colab": {
      "name": "k-nn-classifier.ipynb",
      "provenance": [],
      "authorship_tag": "ABX9TyNo8v+2TgPANGDgjN9Zl2km",
      "include_colab_link": true
    },
    "kernelspec": {
      "name": "python3",
      "display_name": "Python 3"
    },
    "language_info": {
      "name": "python"
    }
  },
  "cells": [
    {
      "cell_type": "markdown",
      "metadata": {
        "id": "view-in-github",
        "colab_type": "text"
      },
      "source": [
        "<a href=\"https://colab.research.google.com/github/jsdysw/knn-classifier/blob/master/k_nn_classifier.ipynb\" target=\"_parent\"><img src=\"https://colab.research.google.com/assets/colab-badge.svg\" alt=\"Open In Colab\"/></a>"
      ]
    },
    {
      "cell_type": "markdown",
      "source": [
        "# Dataset analysis\n",
        "feature vector X = {f1, f2, f3, f4, f5, f6}\n",
        "\n",
        "class vector C = {\"satisfied\", \"unsatisfied\"}"
      ],
      "metadata": {
        "id": "7RUz0nvMo0IH"
      }
    },
    {
      "cell_type": "code",
      "execution_count": 101,
      "metadata": {
        "colab": {
          "base_uri": "https://localhost:8080/"
        },
        "id": "3hLaFfcVnuff",
        "outputId": "d39fc83c-f968-4c32-c452-4302b7edec06"
      },
      "outputs": [
        {
          "output_type": "stream",
          "name": "stdout",
          "text": [
            "Examples of dataset : \n",
            " [[40 2 1 86872 25 9 'unsatisfied']\n",
            " [40 2 1 259323 54 10 'satisfied']\n",
            " [40 2 1 256813 43 14 'satisfied']]\n",
            "\n",
            "Shape of X_train :  (18000, 6)\n",
            "Shape of y_train :  (18000,)\n",
            "X_train example : \n",
            " [[40 2 1 86872 25 9]\n",
            " [40 2 1 259323 54 10]]\n",
            "y_train example : \n",
            " ['unsatisfied' 'satisfied']\n",
            "\n",
            "Shape of X_test :  (2000, 6)\n",
            "Shape of y_test :  (2000,)\n",
            "X_test example : \n",
            " [[33 1 0 46094 42 13]\n",
            " [50 4 1 140319 57 9]]\n",
            "y_test example : \n",
            " ['unsatisfied' 'unsatisfied']\n"
          ]
        }
      ],
      "source": [
        "import pandas as pd\n",
        "import os\n",
        "\n",
        "# load satisfaction_data.csv from the github repository\n",
        "\n",
        "# url = 'https://raw.githubusercontent.com/jsdysw/knn-classifier/master/satisfaction_data.csv?token=GHSAT0AAAAAABQYSI53RANCS5CDDMW3Y3OIYTRKKOQ'\n",
        "# df = pd.read_csv(url, header=None)\n",
        "\n",
        "directory_data = './'\n",
        "filename_data = 'satisfaction_data.csv'\n",
        "df = pd.read_csv(os.path.join(directory_data, filename_data), header=None)\n",
        "dataset = df.to_numpy() # pandas dataframe -> numpy\n",
        "\n",
        "print(\"Examples of dataset : \\n\", dataset[0:3])\n",
        "\n",
        "# split data into train_data(9) and test_data(1)\n",
        "train_data = dataset[0:18000]\n",
        "test_data = dataset[18000:]\n",
        "\n",
        "# split into features and class\n",
        "X_train = train_data[:,:6]\n",
        "y_train = train_data[:,6]\n",
        "X_test = test_data[:,:6]\n",
        "y_test = test_data[:,6]\n",
        "\n",
        "print(\"\\nShape of X_train : \", X_train.shape)\n",
        "print(\"Shape of y_train : \", y_train.shape)\n",
        "print(\"X_train example : \\n\", X_train[0:2])\n",
        "print(\"y_train example : \\n\", y_train[0:2])\n",
        "\n",
        "print(\"\\nShape of X_test : \", X_test.shape)\n",
        "print(\"Shape of y_test : \", y_test.shape)\n",
        "print(\"X_test example : \\n\", X_test[0:2])\n",
        "print(\"y_test example : \\n\", y_test[0:2])\n"
      ]
    },
    {
      "cell_type": "markdown",
      "source": [
        "# Distance\n",
        "the difference between two data is defined as L2 norm"
      ],
      "metadata": {
        "id": "ulJwjUUH8QO0"
      }
    },
    {
      "cell_type": "code",
      "source": [
        "import numpy as np\n",
        "\n",
        "def get_distance(data1, data2) :\n",
        "    diff = data1 - data2\n",
        "    l2_norm = np.sum(np.square(diff)) ** 0.5\n",
        "    # print(\"data1 : \", data1)\n",
        "    # print(\"data2 : \", data2)\n",
        "    # print(\"diff : \", np.square(diff))\n",
        "    # print(l2_norm)\n",
        "    return l2_norm\n",
        "\n",
        "# get_distance(X_test[0], X_test[1])"
      ],
      "metadata": {
        "id": "NxP3eNab8PYG"
      },
      "execution_count": 97,
      "outputs": []
    },
    {
      "cell_type": "markdown",
      "source": [
        "# k-NN model"
      ],
      "metadata": {
        "id": "bfASzFDaAqnq"
      }
    },
    {
      "cell_type": "code",
      "source": [
        ""
      ],
      "metadata": {
        "id": "nOFXIhcFwl5I"
      },
      "execution_count": null,
      "outputs": []
    },
    {
      "cell_type": "code",
      "source": [
        ""
      ],
      "metadata": {
        "id": "fwq016wo89Xi"
      },
      "execution_count": null,
      "outputs": []
    }
  ]
}