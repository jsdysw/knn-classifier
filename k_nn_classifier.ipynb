{
  "nbformat": 4,
  "nbformat_minor": 0,
  "metadata": {
    "colab": {
      "name": "k-nn-classifier.ipynb",
      "provenance": [],
      "collapsed_sections": [],
      "authorship_tag": "ABX9TyN47vBuhyfcxk+XKUYCg0KT",
      "include_colab_link": true
    },
    "kernelspec": {
      "name": "python3",
      "display_name": "Python 3"
    },
    "language_info": {
      "name": "python"
    },
    "accelerator": "GPU"
  },
  "cells": [
    {
      "cell_type": "markdown",
      "metadata": {
        "id": "view-in-github",
        "colab_type": "text"
      },
      "source": [
        "<a href=\"https://colab.research.google.com/github/jsdysw/knn-classifier/blob/master/k_nn_classifier.ipynb\" target=\"_parent\"><img src=\"https://colab.research.google.com/assets/colab-badge.svg\" alt=\"Open In Colab\"/></a>"
      ]
    },
    {
      "cell_type": "markdown",
      "source": [
        "# Libraries"
      ],
      "metadata": {
        "id": "4cyzv11STyJz"
      }
    },
    {
      "cell_type": "code",
      "source": [
        "import pandas as pd\n",
        "import os\n",
        "import numpy as np\n",
        "from collections import Counter\n",
        "from sklearn.model_selection import train_test_split\n",
        "import matplotlib.pyplot as plt"
      ],
      "metadata": {
        "id": "CUnRTuxuiaqg"
      },
      "execution_count": 44,
      "outputs": []
    },
    {
      "cell_type": "markdown",
      "source": [
        "# Read dataset\n",
        "feature vector X = {f1, f2, f3, f4, f5, f6}\n",
        "\n",
        "class vector C = {\"satisfied\", \"unsatisfied\"}"
      ],
      "metadata": {
        "id": "7RUz0nvMo0IH"
      }
    },
    {
      "cell_type": "code",
      "execution_count": 45,
      "metadata": {
        "colab": {
          "base_uri": "https://localhost:8080/"
        },
        "id": "3hLaFfcVnuff",
        "outputId": "02dbc097-32b1-41f3-d8cc-e10677a33518"
      },
      "outputs": [
        {
          "output_type": "stream",
          "name": "stdout",
          "text": [
            "Examples of dataset : \n",
            " [[40 2 1 86872 25 9 'unsatisfied']\n",
            " [40 2 1 259323 54 10 'satisfied']\n",
            " [40 2 1 256813 43 14 'satisfied']]\n"
          ]
        }
      ],
      "source": [
        "# load satisfaction_data.csv from the local path\n",
        "directory_data = './'\n",
        "filename_data = 'satisfaction_data.csv'\n",
        "df = pd.read_csv(os.path.join(directory_data, filename_data), header=None)\n",
        "dataset = df.to_numpy() # pandas dataframe -> numpy array\n",
        "\n",
        "print(\"Examples of dataset : \\n\", dataset[0:3])"
      ]
    },
    {
      "cell_type": "markdown",
      "source": [
        "# Generate 10 different train/test dataset pairs randomly\n",
        "train data : test data = 9 : 1"
      ],
      "metadata": {
        "id": "fhf8s7M2D9bj"
      }
    },
    {
      "cell_type": "code",
      "source": [
        "fold_size = int(len(dataset) / 10)\n",
        "fold_num = 10\n",
        "\n",
        "X_dataset = dataset[:,:6]\n",
        "y_dataset = dataset[:,6]\n",
        "\n",
        "X_train = []\n",
        "y_train = []\n",
        "X_test = []\n",
        "y_test = []\n",
        "\n",
        "for i in range(fold_num):\n",
        "    X_test.append(X_dataset[i*fold_size:(i+1)*fold_size])\n",
        "    y_test.append(y_dataset[i*fold_size:(i+1)*fold_size])\n",
        "\n",
        "    xa = X_dataset[:i*fold_size]\n",
        "    xb = X_dataset[(i+1)*fold_size:]\n",
        "\n",
        "    ya = y_dataset[:i*fold_size]\n",
        "    yb = y_dataset[(i+1)*fold_size:]\n",
        "\n",
        "    # print(yb)\n",
        "\n",
        "    X_train.append(np.concatenate((xa,xb)))\n",
        "    y_train.append(np.concatenate((ya,yb)))\n",
        "\n",
        "\n",
        "print(\"Shape of X_test\", X_test[9].shape)\n",
        "print(\"Shape of y_test\", y_test[9].shape)\n",
        "\n",
        "print(\"Shape of X_train\", X_train[9].shape)\n",
        "print(\"Shape of y_train\", y_train[9].shape)"
      ],
      "metadata": {
        "id": "W0aBRVFwEEHs",
        "colab": {
          "base_uri": "https://localhost:8080/"
        },
        "outputId": "ff13f427-3640-493e-f3b6-864fc29f1fe3"
      },
      "execution_count": 46,
      "outputs": [
        {
          "output_type": "stream",
          "name": "stdout",
          "text": [
            "Shape of X_test (2000, 6)\n",
            "Shape of y_test (2000,)\n",
            "Shape of X_train (18000, 6)\n",
            "Shape of y_train (18000,)\n"
          ]
        }
      ]
    },
    {
      "cell_type": "markdown",
      "source": [
        "# Data preprocessing (normalize)"
      ],
      "metadata": {
        "id": "C40EydrXi8kS"
      }
    },
    {
      "cell_type": "code",
      "source": [
        "col_means = []\n",
        "col_std = []\n",
        "\n",
        "for i in range(10):\n",
        "    col_means.append(X_train[i].sum(axis = 0) / len(X_train[i]))\n",
        "    col_std.append(np.std(X_train[i], dtype=np.float64, axis = 0))\n",
        "    \n",
        "    normalized_train_data = (X_train[i] - col_means[i])/col_std[i]\n",
        "    X_train[i] = normalized_train_data\n",
        "\n",
        "    normalized_test_data = (X_test[i] - col_means[i])/col_std[i]\n",
        "    X_test[i] = normalized_test_data\n",
        "\n",
        "print(\"Examples of normalized train dataset : \\n\", X_train[i][0:2])\n",
        "print(\"Examples of normalized test dataset : \\n\", X_test[i][0:2])"
      ],
      "metadata": {
        "id": "skLWq6B1i7dv",
        "colab": {
          "base_uri": "https://localhost:8080/"
        },
        "outputId": "ec5066f5-2166-4496-df83-d015ac1a878b"
      },
      "execution_count": 47,
      "outputs": [
        {
          "output_type": "stream",
          "name": "stdout",
          "text": [
            "Examples of normalized train dataset : \n",
            " [[-0.2666224404400283 -0.31300994728093356 -0.3067523904747627\n",
            "  -0.9654140175900487 -1.1204620079779688 -0.5308974550386716]\n",
            " [-0.2666224404400283 -0.31300994728093356 -0.3067523904747627\n",
            "  0.7326949552864844 1.1328335502574762 -0.12397554264316428]]\n",
            "Examples of normalized test dataset : \n",
            " [[-0.8577094026190303 -1.1899249746827711 -2.077612887121886\n",
            "  -1.3669511945038344 0.2004353882290163 1.0967901945433576]\n",
            " [0.5777875055299745 1.4408201075227416 -0.3067523904747627\n",
            "  -0.43912637487802 1.3659330907645912 -0.5308974550386716]]\n"
          ]
        }
      ]
    },
    {
      "cell_type": "markdown",
      "source": [
        "# kNN model\n",
        "distance between two data is defined as Euclidean(L2 norm)"
      ],
      "metadata": {
        "id": "ulJwjUUH8QO0"
      }
    },
    {
      "cell_type": "code",
      "source": [
        "class KNN:\n",
        "  def __init__(self, k):\n",
        "    self.k = k\n",
        "  \n",
        "  def fit(self, X, y):\n",
        "    self.X_train = X\n",
        "    self.y_train = y\n",
        "\n",
        "  # distance\n",
        "  def distance(self, data1, data2) :\n",
        "    sub = data1 - data2\n",
        "    dis = np.sum(np.square(sub)) ** 0.5\n",
        "    # print(\"data1 : \", data1)\n",
        "    # print(\"data2 : \", data2)\n",
        "    # print(\"sub\", sub)\n",
        "    # print(\"dis\", dis)\n",
        "    return dis\n",
        "\n",
        "\n",
        "  def predict(self, _X_test):\n",
        "    final_output = []\n",
        "\n",
        "    for i in range(len(_X_test)):\n",
        "        if i % 300 == 0 :\n",
        "          print(\"   Loading : \", i/len(_X_test))\n",
        "\n",
        "        d = []\n",
        "        votes = []\n",
        "\n",
        "        for j in range(len(self.X_train)):\n",
        "            # get distance with every data samples\n",
        "            dist = self.distance(_X_test[i] , self.X_train[j])\n",
        "            d.append([dist, j])\n",
        "        \n",
        "        d.sort()\n",
        "        d = d[0:self.k]\n",
        "\n",
        "        # vote\n",
        "        for d, j in d:\n",
        "            votes.append(self.y_train[j])  \n",
        "        ans = Counter(votes).most_common(1)[0][0]\n",
        "        final_output.append(ans)\n",
        "      \n",
        "    return final_output\n"
      ],
      "metadata": {
        "id": "NxP3eNab8PYG"
      },
      "execution_count": 48,
      "outputs": []
    },
    {
      "cell_type": "markdown",
      "source": [
        "# Predict satisfaction with 10 dataset pairs"
      ],
      "metadata": {
        "id": "bfASzFDaAqnq"
      }
    },
    {
      "cell_type": "code",
      "source": [
        "# set k-NN model\n",
        "window_size = 3\n",
        "clf = KNN(window_size)\n",
        "\n",
        "prediction_arr = []\n",
        "\n",
        "for i in range(fold_num):\n",
        "    print(\"Predict with train/test pair# : \", i)\n",
        "\n",
        "    clf.fit(X_train[i], y_train[i])\n",
        "    \n",
        "    # predict \n",
        "    prediction = clf.predict(X_test[i])\n",
        "    prediction_arr.append(prediction)\n",
        "    \n",
        "    ground_truth = y_test[i]\n",
        "    # print(prediction)\n",
        "    # print(ground_truth)\n",
        "    # prediction loss\n",
        "    accuracy_score = np.sum(prediction == ground_truth) / len(ground_truth) \n",
        "    print(\"       Accuracy_score : \", accuracy_score)\n",
        "\n",
        "\n",
        "# export preiction result .csv \n",
        "df = pd.DataFrame(X_dataset)\n",
        "df.insert(6,\"class\" ,prediction_arr)\n",
        "df.to_csv(r'./20174089.csv', index = False)"
      ],
      "metadata": {
        "colab": {
          "base_uri": "https://localhost:8080/",
          "height": 426
        },
        "id": "GDXNt7bcztcr",
        "outputId": "20faed47-df03-4755-f4c2-06713b35676c"
      },
      "execution_count": 49,
      "outputs": [
        {
          "output_type": "stream",
          "name": "stdout",
          "text": [
            "Predict with train/test pair# :  0\n",
            "   Loading :  0.0\n"
          ]
        },
        {
          "output_type": "error",
          "ename": "KeyboardInterrupt",
          "evalue": "ignored",
          "traceback": [
            "\u001b[0;31m---------------------------------------------------------------------------\u001b[0m",
            "\u001b[0;31mKeyboardInterrupt\u001b[0m                         Traceback (most recent call last)",
            "\u001b[0;32m<ipython-input-49-fad162ac20d1>\u001b[0m in \u001b[0;36m<module>\u001b[0;34m()\u001b[0m\n\u001b[1;32m     11\u001b[0m \u001b[0;34m\u001b[0m\u001b[0m\n\u001b[1;32m     12\u001b[0m     \u001b[0;31m# predict\u001b[0m\u001b[0;34m\u001b[0m\u001b[0;34m\u001b[0m\u001b[0;34m\u001b[0m\u001b[0m\n\u001b[0;32m---> 13\u001b[0;31m     \u001b[0mprediction\u001b[0m \u001b[0;34m=\u001b[0m \u001b[0mclf\u001b[0m\u001b[0;34m.\u001b[0m\u001b[0mpredict\u001b[0m\u001b[0;34m(\u001b[0m\u001b[0mX_test\u001b[0m\u001b[0;34m[\u001b[0m\u001b[0mi\u001b[0m\u001b[0;34m]\u001b[0m\u001b[0;34m)\u001b[0m\u001b[0;34m\u001b[0m\u001b[0;34m\u001b[0m\u001b[0m\n\u001b[0m\u001b[1;32m     14\u001b[0m     \u001b[0mprediction_arr\u001b[0m\u001b[0;34m.\u001b[0m\u001b[0mappend\u001b[0m\u001b[0;34m(\u001b[0m\u001b[0mprediction\u001b[0m\u001b[0;34m)\u001b[0m\u001b[0;34m\u001b[0m\u001b[0;34m\u001b[0m\u001b[0m\n\u001b[1;32m     15\u001b[0m \u001b[0;34m\u001b[0m\u001b[0m\n",
            "\u001b[0;32m<ipython-input-48-c776b84d53b1>\u001b[0m in \u001b[0;36mpredict\u001b[0;34m(self, _X_test)\u001b[0m\n\u001b[1;32m     30\u001b[0m         \u001b[0;32mfor\u001b[0m \u001b[0mj\u001b[0m \u001b[0;32min\u001b[0m \u001b[0mrange\u001b[0m\u001b[0;34m(\u001b[0m\u001b[0mlen\u001b[0m\u001b[0;34m(\u001b[0m\u001b[0mself\u001b[0m\u001b[0;34m.\u001b[0m\u001b[0mX_train\u001b[0m\u001b[0;34m)\u001b[0m\u001b[0;34m)\u001b[0m\u001b[0;34m:\u001b[0m\u001b[0;34m\u001b[0m\u001b[0;34m\u001b[0m\u001b[0m\n\u001b[1;32m     31\u001b[0m             \u001b[0;31m# get distance with every data samples\u001b[0m\u001b[0;34m\u001b[0m\u001b[0;34m\u001b[0m\u001b[0;34m\u001b[0m\u001b[0m\n\u001b[0;32m---> 32\u001b[0;31m             \u001b[0mdist\u001b[0m \u001b[0;34m=\u001b[0m \u001b[0mself\u001b[0m\u001b[0;34m.\u001b[0m\u001b[0mdistance\u001b[0m\u001b[0;34m(\u001b[0m\u001b[0m_X_test\u001b[0m\u001b[0;34m[\u001b[0m\u001b[0mi\u001b[0m\u001b[0;34m]\u001b[0m \u001b[0;34m,\u001b[0m \u001b[0mself\u001b[0m\u001b[0;34m.\u001b[0m\u001b[0mX_train\u001b[0m\u001b[0;34m[\u001b[0m\u001b[0mj\u001b[0m\u001b[0;34m]\u001b[0m\u001b[0;34m)\u001b[0m\u001b[0;34m\u001b[0m\u001b[0;34m\u001b[0m\u001b[0m\n\u001b[0m\u001b[1;32m     33\u001b[0m             \u001b[0md\u001b[0m\u001b[0;34m.\u001b[0m\u001b[0mappend\u001b[0m\u001b[0;34m(\u001b[0m\u001b[0;34m[\u001b[0m\u001b[0mdist\u001b[0m\u001b[0;34m,\u001b[0m \u001b[0mj\u001b[0m\u001b[0;34m]\u001b[0m\u001b[0;34m)\u001b[0m\u001b[0;34m\u001b[0m\u001b[0;34m\u001b[0m\u001b[0m\n\u001b[1;32m     34\u001b[0m \u001b[0;34m\u001b[0m\u001b[0m\n",
            "\u001b[0;32m<ipython-input-48-c776b84d53b1>\u001b[0m in \u001b[0;36mdistance\u001b[0;34m(self, data1, data2)\u001b[0m\n\u001b[1;32m      9\u001b[0m   \u001b[0;31m# distance\u001b[0m\u001b[0;34m\u001b[0m\u001b[0;34m\u001b[0m\u001b[0;34m\u001b[0m\u001b[0m\n\u001b[1;32m     10\u001b[0m   \u001b[0;32mdef\u001b[0m \u001b[0mdistance\u001b[0m\u001b[0;34m(\u001b[0m\u001b[0mself\u001b[0m\u001b[0;34m,\u001b[0m \u001b[0mdata1\u001b[0m\u001b[0;34m,\u001b[0m \u001b[0mdata2\u001b[0m\u001b[0;34m)\u001b[0m \u001b[0;34m:\u001b[0m\u001b[0;34m\u001b[0m\u001b[0;34m\u001b[0m\u001b[0m\n\u001b[0;32m---> 11\u001b[0;31m     \u001b[0msub\u001b[0m \u001b[0;34m=\u001b[0m \u001b[0mdata1\u001b[0m \u001b[0;34m-\u001b[0m \u001b[0mdata2\u001b[0m\u001b[0;34m\u001b[0m\u001b[0;34m\u001b[0m\u001b[0m\n\u001b[0m\u001b[1;32m     12\u001b[0m     \u001b[0mdis\u001b[0m \u001b[0;34m=\u001b[0m \u001b[0mnp\u001b[0m\u001b[0;34m.\u001b[0m\u001b[0msum\u001b[0m\u001b[0;34m(\u001b[0m\u001b[0mnp\u001b[0m\u001b[0;34m.\u001b[0m\u001b[0msquare\u001b[0m\u001b[0;34m(\u001b[0m\u001b[0msub\u001b[0m\u001b[0;34m)\u001b[0m\u001b[0;34m)\u001b[0m \u001b[0;34m**\u001b[0m \u001b[0;36m0.5\u001b[0m\u001b[0;34m\u001b[0m\u001b[0;34m\u001b[0m\u001b[0m\n\u001b[1;32m     13\u001b[0m     \u001b[0;31m# print(\"data1 : \", data1)\u001b[0m\u001b[0;34m\u001b[0m\u001b[0;34m\u001b[0m\u001b[0;34m\u001b[0m\u001b[0m\n",
            "\u001b[0;31mKeyboardInterrupt\u001b[0m: "
          ]
        }
      ]
    },
    {
      "cell_type": "code",
      "source": [
        ""
      ],
      "metadata": {
        "id": "OPoMuFzVcDM-"
      },
      "execution_count": null,
      "outputs": []
    }
  ]
}