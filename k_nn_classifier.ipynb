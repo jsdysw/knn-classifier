{
  "nbformat": 4,
  "nbformat_minor": 0,
  "metadata": {
    "colab": {
      "name": "k-nn-classifier.ipynb",
      "provenance": [],
      "collapsed_sections": [],
      "authorship_tag": "ABX9TyNdYBAsX/s4QuvnWIV8PJ6F",
      "include_colab_link": true
    },
    "kernelspec": {
      "name": "python3",
      "display_name": "Python 3"
    },
    "language_info": {
      "name": "python"
    }
  },
  "cells": [
    {
      "cell_type": "markdown",
      "metadata": {
        "id": "view-in-github",
        "colab_type": "text"
      },
      "source": [
        "<a href=\"https://colab.research.google.com/github/jsdysw/knn-classifier/blob/master/k_nn_classifier.ipynb\" target=\"_parent\"><img src=\"https://colab.research.google.com/assets/colab-badge.svg\" alt=\"Open In Colab\"/></a>"
      ]
    },
    {
      "cell_type": "markdown",
      "source": [
        "# Dataset\n",
        "feature vector X = {f1, f2, f3, f4, f5, f6}\n",
        "\n",
        "class vector C = {\"satisfied\", \"unsatisfied\"}"
      ],
      "metadata": {
        "id": "7RUz0nvMo0IH"
      }
    },
    {
      "cell_type": "code",
      "execution_count": 15,
      "metadata": {
        "colab": {
          "base_uri": "https://localhost:8080/"
        },
        "id": "3hLaFfcVnuff",
        "outputId": "e98cc165-3e9c-4a82-e925-1f7e0a251c92"
      },
      "outputs": [
        {
          "output_type": "stream",
          "name": "stdout",
          "text": [
            "Examples of dataset : \n",
            " [[40 2 1 86872 25 9 'unsatisfied']\n",
            " [40 2 1 259323 54 10 'satisfied']\n",
            " [40 2 1 256813 43 14 'satisfied']]\n",
            "\n",
            "Shape of X_train :  (18000, 6)\n",
            "Shape of y_train :  (18000,)\n",
            "X_train example :  [40 2 1 86872 25 9]\n",
            "y_train example :  unsatisfied\n",
            "\n",
            "Shape of X_test :  (2000, 6)\n",
            "Shape of y_test :  (2000,)\n",
            "X_test example :  [33 1 0 46094 42 13]\n",
            "y_test example :  unsatisfied\n"
          ]
        }
      ],
      "source": [
        "import pandas as pd\n",
        "import os\n",
        "\n",
        "# load satisfaction_data.csv from the github repository\n",
        "# url = 'https://raw.githubusercontent.com/jsdysw/knn-classifier/master/satisfaction_data.csv?token=GHSAT0AAAAAABQYSI53RANCS5CDDMW3Y3OIYTRKKOQ'\n",
        "# df = pd.read_csv(url, header=None)\n",
        "\n",
        "# load satisfaction_data.csv from the local path\n",
        "directory_data = './'\n",
        "filename_data = 'satisfaction_data.csv'\n",
        "df = pd.read_csv(os.path.join(directory_data, filename_data), header=None)\n",
        "dataset = df.to_numpy() # pandas dataframe -> numpy\n",
        "\n",
        "print(\"Examples of dataset : \\n\", dataset[0:3])\n",
        "\n",
        "# split data into train_data(9) and test_data(1)\n",
        "train_data = dataset[0:18000]\n",
        "test_data = dataset[18000:]\n",
        "\n",
        "# split into features and class\n",
        "X_train = train_data[:,:6]\n",
        "y_train = train_data[:,6]\n",
        "X_test = test_data[:,:6]\n",
        "y_test = test_data[:,6]\n",
        "\n",
        "print(\"\\nShape of X_train : \", X_train.shape)\n",
        "print(\"Shape of y_train : \", y_train.shape)\n",
        "print(\"X_train example : \", X_train[0])\n",
        "print(\"y_train example : \", y_train[0])\n",
        "\n",
        "print(\"\\nShape of X_test : \", X_test.shape)\n",
        "print(\"Shape of y_test : \", y_test.shape)\n",
        "print(\"X_test example : \", X_test[0])\n",
        "print(\"y_test example : \", y_test[0])\n"
      ]
    },
    {
      "cell_type": "markdown",
      "source": [
        "# kNN model\n",
        "distance between two data is defined as Euclidean(L2 norm)"
      ],
      "metadata": {
        "id": "ulJwjUUH8QO0"
      }
    },
    {
      "cell_type": "code",
      "source": [
        "import numpy as np\n",
        "from collections import Counter\n",
        "\n",
        "class KNN:\n",
        "  def __init__(self, k):\n",
        "    self.k = k\n",
        "  \n",
        "  def fit(self, X, y):\n",
        "    self.X_train = X\n",
        "    self.y_train = y\n",
        "\n",
        "  def distance(self, data1, data2) :\n",
        "    sub = data1 - data2\n",
        "    dis = np.sum(np.square(sub)) ** 0.5\n",
        "    # print(\"data1 : \", data1)\n",
        "    # print(\"data2 : \", data2)\n",
        "    # print(dis)\n",
        "    return dis\n",
        "\n",
        "\n",
        "  def predict(self, X_test):\n",
        "    final_output = []\n",
        "\n",
        "    for i in range(len(X_test)):\n",
        "        d = []\n",
        "        votes = []\n",
        "        for j in range(len(X_train)):\n",
        "            # get distance with every data samples\n",
        "            dist = self.distance(X_train[j] , X_test[i])\n",
        "            d.append([dist, j])\n",
        "        \n",
        "        d.sort()\n",
        "        d = d[0:self.k]\n",
        "\n",
        "        # vote\n",
        "        for d, j in d:\n",
        "            votes.append(y_train[j])  \n",
        "          \n",
        "        ans = Counter(votes).most_common(1)[0][0]\n",
        "        final_output.append(ans)\n",
        "      \n",
        "    return final_output\n"
      ],
      "metadata": {
        "id": "NxP3eNab8PYG"
      },
      "execution_count": 40,
      "outputs": []
    },
    {
      "cell_type": "markdown",
      "source": [
        "# Result"
      ],
      "metadata": {
        "id": "bfASzFDaAqnq"
      }
    },
    {
      "cell_type": "code",
      "source": [
        "# set k-NN model\n",
        "window_size = 3\n",
        "clf = KNN(window_size)\n",
        "clf.fit(X_train, y_train)\n",
        "\n",
        "# predict \n",
        "prediction = clf.predict(X_test[10:20])\n",
        "ground_truth = y_test[10:20]\n",
        "\n",
        "# prediction loss\n",
        "loss = 1 - (prediction == ground_truth).sum() / len(ground_truth) \n",
        "print(loss)\n",
        "\n"
      ],
      "metadata": {
        "colab": {
          "base_uri": "https://localhost:8080/"
        },
        "id": "nOFXIhcFwl5I",
        "outputId": "5c0de2e0-e017-4d93-aba1-35eaf4c9a432"
      },
      "execution_count": 45,
      "outputs": [
        {
          "output_type": "stream",
          "name": "stdout",
          "text": [
            "['unsatisfied', 'unsatisfied', 'unsatisfied', 'unsatisfied', 'unsatisfied', 'unsatisfied', 'satisfied', 'satisfied', 'unsatisfied', 'satisfied']\n",
            "['unsatisfied' 'unsatisfied' 'unsatisfied' 'unsatisfied' 'satisfied'\n",
            " 'unsatisfied' 'satisfied' 'satisfied' 'satisfied' 'satisfied']\n",
            "0.19999999999999996\n"
          ]
        }
      ]
    },
    {
      "cell_type": "code",
      "source": [
        ""
      ],
      "metadata": {
        "id": "fwq016wo89Xi"
      },
      "execution_count": null,
      "outputs": []
    }
  ]
}