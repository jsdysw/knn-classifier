{
  "nbformat": 4,
  "nbformat_minor": 0,
  "metadata": {
    "colab": {
      "name": "k-nn-classifier.ipynb",
      "provenance": [],
      "collapsed_sections": [],
      "authorship_tag": "ABX9TyOFuUHvaDVF8YF/Awjobnq7",
      "include_colab_link": true
    },
    "kernelspec": {
      "name": "python3",
      "display_name": "Python 3"
    },
    "language_info": {
      "name": "python"
    }
  },
  "cells": [
    {
      "cell_type": "markdown",
      "metadata": {
        "id": "view-in-github",
        "colab_type": "text"
      },
      "source": [
        "<a href=\"https://colab.research.google.com/github/jsdysw/knn-classifier/blob/master/k_nn_classifier.ipynb\" target=\"_parent\"><img src=\"https://colab.research.google.com/assets/colab-badge.svg\" alt=\"Open In Colab\"/></a>"
      ]
    },
    {
      "cell_type": "code",
      "source": [
        "import pandas as pd\n",
        "import os\n",
        "import numpy as np\n",
        "from collections import Counter\n",
        "from sklearn.model_selection import train_test_split"
      ],
      "metadata": {
        "id": "CUnRTuxuiaqg"
      },
      "execution_count": 126,
      "outputs": []
    },
    {
      "cell_type": "markdown",
      "source": [
        "# Read dataset\n",
        "feature vector X = {f1, f2, f3, f4, f5, f6}\n",
        "\n",
        "class vector C = {\"satisfied\", \"unsatisfied\"}"
      ],
      "metadata": {
        "id": "7RUz0nvMo0IH"
      }
    },
    {
      "cell_type": "code",
      "execution_count": 127,
      "metadata": {
        "colab": {
          "base_uri": "https://localhost:8080/"
        },
        "id": "3hLaFfcVnuff",
        "outputId": "e16765f5-77ed-424d-aba8-6dfe42c2ddd2"
      },
      "outputs": [
        {
          "output_type": "stream",
          "name": "stdout",
          "text": [
            "Examples of dataset : \n",
            " [[40 2 1 86872 25 9 'unsatisfied']\n",
            " [40 2 1 259323 54 10 'satisfied']\n",
            " [40 2 1 256813 43 14 'satisfied']]\n"
          ]
        }
      ],
      "source": [
        "# load satisfaction_data.csv from the local path\n",
        "directory_data = './'\n",
        "filename_data = 'satisfaction_data.csv'\n",
        "df = pd.read_csv(os.path.join(directory_data, filename_data), header=None)\n",
        "dataset = df.to_numpy() # pandas dataframe -> numpy array\n",
        "\n",
        "print(\"Examples of dataset : \\n\", dataset[0:3])"
      ]
    },
    {
      "cell_type": "markdown",
      "source": [
        "# Data processing (normalize)"
      ],
      "metadata": {
        "id": "C40EydrXi8kS"
      }
    },
    {
      "cell_type": "code",
      "source": [
        "tot_data = dataset[:,:6]\n",
        "label = dataset[:,6]\n",
        "col_mean = tot_data.sum(axis = 0) / len(tot_data)\n",
        "col_std = np.std(tot_data, dtype=np.float64, axis = 0)\n",
        "\n",
        "normalized_tot_data = (tot_data - col_mean)/col_std\n",
        "\n",
        "dataset[:,:6] = normalized_tot_data\n",
        "\n",
        "# print(\"Examples of dataset : \\n\", dataset[0:3])"
      ],
      "metadata": {
        "id": "skLWq6B1i7dv"
      },
      "execution_count": 132,
      "outputs": []
    },
    {
      "cell_type": "markdown",
      "source": [
        "# Generate 10 different train/test dataset pairs randomly\n",
        "train data : test data = 9 : 1"
      ],
      "metadata": {
        "id": "fhf8s7M2D9bj"
      }
    },
    {
      "cell_type": "code",
      "source": [
        "X_dataset = dataset[:,:6]\n",
        "y_dataset = dataset[:,6]\n",
        "\n",
        "X_train = []\n",
        "y_train = []\n",
        "X_test = []\n",
        "y_test = []\n",
        "\n",
        "for i in range(10):\n",
        "    xtrain, xtest, ytrain, ytest  = train_test_split(X_dataset, y_dataset, test_size=0.1, stratify=y_dataset)\n",
        "    X_train.append(xtrain)\n",
        "    y_train.append(ytrain)\n",
        "    X_test.append(xtest)\n",
        "    y_test.append(ytest)\n",
        "\n",
        "# print(\"Examples of dataset : \\n\", X_test[0][0:10])"
      ],
      "metadata": {
        "id": "W0aBRVFwEEHs"
      },
      "execution_count": 133,
      "outputs": []
    },
    {
      "cell_type": "markdown",
      "source": [
        "# kNN model\n",
        "distance between two data is defined as Euclidean(L2 norm)"
      ],
      "metadata": {
        "id": "ulJwjUUH8QO0"
      }
    },
    {
      "cell_type": "code",
      "source": [
        "class KNN:\n",
        "  def __init__(self, k):\n",
        "    self.k = k\n",
        "  \n",
        "  def fit(self, X, y):\n",
        "    self.X_train = X\n",
        "    self.y_train = y\n",
        "\n",
        "  # data\n",
        "  def distance(self, data1, data2) :\n",
        "    sub = data1 - data2\n",
        "    dis = np.sum(np.square(sub)) ** 0.5\n",
        "    # print(\"data1 : \", data1)\n",
        "    # print(\"data2 : \", data2)\n",
        "    # print(\"sub\", sub)\n",
        "    # print(\"dis\", dis)\n",
        "    return dis\n",
        "\n",
        "\n",
        "  def predict(self, _X_test):\n",
        "    final_output = []\n",
        "\n",
        "    for i in range(len(_X_test)):\n",
        "        # if i % 200 == 0 :\n",
        "          # print(\"Loading : \", i/len(_X_test))\n",
        "\n",
        "        d = []\n",
        "        votes = []\n",
        "\n",
        "        for j in range(len(self.X_train)):\n",
        "            # get distance with every data samples\n",
        "            dist = self.distance(_X_test[i] , self.X_train[j])\n",
        "            d.append([dist, j])\n",
        "        \n",
        "        d.sort()\n",
        "        d = d[0:self.k]\n",
        "\n",
        "        # vote\n",
        "        for d, j in d:\n",
        "            votes.append(self.y_train[j])  \n",
        "        ans = Counter(votes).most_common(1)[0][0]\n",
        "        final_output.append(ans)\n",
        "      \n",
        "    return final_output\n"
      ],
      "metadata": {
        "id": "NxP3eNab8PYG"
      },
      "execution_count": 174,
      "outputs": []
    },
    {
      "cell_type": "markdown",
      "source": [
        "# Predict satisfaction with 10 dataset pairs"
      ],
      "metadata": {
        "id": "bfASzFDaAqnq"
      }
    },
    {
      "cell_type": "code",
      "source": [
        "# set k-NN model\n",
        "window_size = 5\n",
        "clf = KNN(window_size)\n",
        "\n",
        "num_of_test_input = 10\n",
        "\n",
        "for i in range(10):\n",
        "    accuracy = []\n",
        "    clf.fit(X_train[i][0:], y_train[i][0:])\n",
        "\n",
        "    # predict \n",
        "    prediction = clf.predict(X_test[i][0:num_of_test_input])\n",
        "    \n",
        "    ground_truth = y_test[i][0:num_of_test_input]\n",
        "    print(prediction)\n",
        "    print(ground_truth)\n",
        "    # prediction loss\n",
        "    accuracy_score = np.sum(prediction == ground_truth) / len(ground_truth) \n",
        "    print(\"Accuracy_score : \", accuracy_score)\n",
        "    # val = input(\"Enter your value: \")"
      ],
      "metadata": {
        "colab": {
          "base_uri": "https://localhost:8080/",
          "height": 607
        },
        "id": "nOFXIhcFwl5I",
        "outputId": "539b2789-b0c5-4312-a0d0-25da1cc7b890"
      },
      "execution_count": 184,
      "outputs": [
        {
          "output_type": "stream",
          "name": "stdout",
          "text": [
            "['satisfied', 'unsatisfied', 'unsatisfied', 'satisfied', 'unsatisfied', 'satisfied', 'satisfied', 'unsatisfied', 'unsatisfied', 'unsatisfied']\n",
            "['satisfied' 'unsatisfied' 'unsatisfied' 'satisfied' 'unsatisfied'\n",
            " 'satisfied' 'satisfied' 'unsatisfied' 'satisfied' 'unsatisfied']\n",
            "Accuracy_score :  0.9\n"
          ]
        },
        {
          "output_type": "error",
          "ename": "KeyboardInterrupt",
          "evalue": "ignored",
          "traceback": [
            "\u001b[0;31m---------------------------------------------------------------------------\u001b[0m",
            "\u001b[0;31mKeyboardInterrupt\u001b[0m                         Traceback (most recent call last)",
            "\u001b[0;32m/usr/local/lib/python3.7/dist-packages/ipykernel/kernelbase.py\u001b[0m in \u001b[0;36m_input_request\u001b[0;34m(self, prompt, ident, parent, password)\u001b[0m\n\u001b[1;32m    728\u001b[0m             \u001b[0;32mtry\u001b[0m\u001b[0;34m:\u001b[0m\u001b[0;34m\u001b[0m\u001b[0;34m\u001b[0m\u001b[0m\n\u001b[0;32m--> 729\u001b[0;31m                 \u001b[0mident\u001b[0m\u001b[0;34m,\u001b[0m \u001b[0mreply\u001b[0m \u001b[0;34m=\u001b[0m \u001b[0mself\u001b[0m\u001b[0;34m.\u001b[0m\u001b[0msession\u001b[0m\u001b[0;34m.\u001b[0m\u001b[0mrecv\u001b[0m\u001b[0;34m(\u001b[0m\u001b[0mself\u001b[0m\u001b[0;34m.\u001b[0m\u001b[0mstdin_socket\u001b[0m\u001b[0;34m,\u001b[0m \u001b[0;36m0\u001b[0m\u001b[0;34m)\u001b[0m\u001b[0;34m\u001b[0m\u001b[0;34m\u001b[0m\u001b[0m\n\u001b[0m\u001b[1;32m    730\u001b[0m             \u001b[0;32mexcept\u001b[0m \u001b[0mException\u001b[0m\u001b[0;34m:\u001b[0m\u001b[0;34m\u001b[0m\u001b[0;34m\u001b[0m\u001b[0m\n",
            "\u001b[0;32m/usr/local/lib/python3.7/dist-packages/jupyter_client/session.py\u001b[0m in \u001b[0;36mrecv\u001b[0;34m(self, socket, mode, content, copy)\u001b[0m\n\u001b[1;32m    802\u001b[0m         \u001b[0;32mtry\u001b[0m\u001b[0;34m:\u001b[0m\u001b[0;34m\u001b[0m\u001b[0;34m\u001b[0m\u001b[0m\n\u001b[0;32m--> 803\u001b[0;31m             \u001b[0mmsg_list\u001b[0m \u001b[0;34m=\u001b[0m \u001b[0msocket\u001b[0m\u001b[0;34m.\u001b[0m\u001b[0mrecv_multipart\u001b[0m\u001b[0;34m(\u001b[0m\u001b[0mmode\u001b[0m\u001b[0;34m,\u001b[0m \u001b[0mcopy\u001b[0m\u001b[0;34m=\u001b[0m\u001b[0mcopy\u001b[0m\u001b[0;34m)\u001b[0m\u001b[0;34m\u001b[0m\u001b[0;34m\u001b[0m\u001b[0m\n\u001b[0m\u001b[1;32m    804\u001b[0m         \u001b[0;32mexcept\u001b[0m \u001b[0mzmq\u001b[0m\u001b[0;34m.\u001b[0m\u001b[0mZMQError\u001b[0m \u001b[0;32mas\u001b[0m \u001b[0me\u001b[0m\u001b[0;34m:\u001b[0m\u001b[0;34m\u001b[0m\u001b[0;34m\u001b[0m\u001b[0m\n",
            "\u001b[0;32m/usr/local/lib/python3.7/dist-packages/zmq/sugar/socket.py\u001b[0m in \u001b[0;36mrecv_multipart\u001b[0;34m(self, flags, copy, track)\u001b[0m\n\u001b[1;32m    624\u001b[0m         \"\"\"\n\u001b[0;32m--> 625\u001b[0;31m         \u001b[0mparts\u001b[0m \u001b[0;34m=\u001b[0m \u001b[0;34m[\u001b[0m\u001b[0mself\u001b[0m\u001b[0;34m.\u001b[0m\u001b[0mrecv\u001b[0m\u001b[0;34m(\u001b[0m\u001b[0mflags\u001b[0m\u001b[0;34m,\u001b[0m \u001b[0mcopy\u001b[0m\u001b[0;34m=\u001b[0m\u001b[0mcopy\u001b[0m\u001b[0;34m,\u001b[0m \u001b[0mtrack\u001b[0m\u001b[0;34m=\u001b[0m\u001b[0mtrack\u001b[0m\u001b[0;34m)\u001b[0m\u001b[0;34m]\u001b[0m\u001b[0;34m\u001b[0m\u001b[0;34m\u001b[0m\u001b[0m\n\u001b[0m\u001b[1;32m    626\u001b[0m         \u001b[0;31m# have first part already, only loop while more to receive\u001b[0m\u001b[0;34m\u001b[0m\u001b[0;34m\u001b[0m\u001b[0;34m\u001b[0m\u001b[0m\n",
            "\u001b[0;32mzmq/backend/cython/socket.pyx\u001b[0m in \u001b[0;36mzmq.backend.cython.socket.Socket.recv\u001b[0;34m()\u001b[0m\n",
            "\u001b[0;32mzmq/backend/cython/socket.pyx\u001b[0m in \u001b[0;36mzmq.backend.cython.socket.Socket.recv\u001b[0;34m()\u001b[0m\n",
            "\u001b[0;32mzmq/backend/cython/socket.pyx\u001b[0m in \u001b[0;36mzmq.backend.cython.socket._recv_copy\u001b[0;34m()\u001b[0m\n",
            "\u001b[0;32m/usr/local/lib/python3.7/dist-packages/zmq/backend/cython/checkrc.pxd\u001b[0m in \u001b[0;36mzmq.backend.cython.checkrc._check_rc\u001b[0;34m()\u001b[0m\n",
            "\u001b[0;31mKeyboardInterrupt\u001b[0m: ",
            "\nDuring handling of the above exception, another exception occurred:\n",
            "\u001b[0;31mKeyboardInterrupt\u001b[0m                         Traceback (most recent call last)",
            "\u001b[0;32m<ipython-input-184-8af3444484f0>\u001b[0m in \u001b[0;36m<module>\u001b[0;34m()\u001b[0m\n\u001b[1;32m     18\u001b[0m     \u001b[0maccuracy_score\u001b[0m \u001b[0;34m=\u001b[0m \u001b[0mnp\u001b[0m\u001b[0;34m.\u001b[0m\u001b[0msum\u001b[0m\u001b[0;34m(\u001b[0m\u001b[0mprediction\u001b[0m \u001b[0;34m==\u001b[0m \u001b[0mground_truth\u001b[0m\u001b[0;34m)\u001b[0m \u001b[0;34m/\u001b[0m \u001b[0mlen\u001b[0m\u001b[0;34m(\u001b[0m\u001b[0mground_truth\u001b[0m\u001b[0;34m)\u001b[0m\u001b[0;34m\u001b[0m\u001b[0;34m\u001b[0m\u001b[0m\n\u001b[1;32m     19\u001b[0m     \u001b[0mprint\u001b[0m\u001b[0;34m(\u001b[0m\u001b[0;34m\"Accuracy_score : \"\u001b[0m\u001b[0;34m,\u001b[0m \u001b[0maccuracy_score\u001b[0m\u001b[0;34m)\u001b[0m\u001b[0;34m\u001b[0m\u001b[0;34m\u001b[0m\u001b[0m\n\u001b[0;32m---> 20\u001b[0;31m     \u001b[0mval\u001b[0m \u001b[0;34m=\u001b[0m \u001b[0minput\u001b[0m\u001b[0;34m(\u001b[0m\u001b[0;34m\"Enter your value: \"\u001b[0m\u001b[0;34m)\u001b[0m\u001b[0;34m\u001b[0m\u001b[0;34m\u001b[0m\u001b[0m\n\u001b[0m\u001b[1;32m     21\u001b[0m \u001b[0;34m\u001b[0m\u001b[0m\n\u001b[1;32m     22\u001b[0m     \u001b[0;31m#  print(\"=============================\")\u001b[0m\u001b[0;34m\u001b[0m\u001b[0;34m\u001b[0m\u001b[0;34m\u001b[0m\u001b[0m\n",
            "\u001b[0;32m/usr/local/lib/python3.7/dist-packages/ipykernel/kernelbase.py\u001b[0m in \u001b[0;36mraw_input\u001b[0;34m(self, prompt)\u001b[0m\n\u001b[1;32m    702\u001b[0m             \u001b[0mself\u001b[0m\u001b[0;34m.\u001b[0m\u001b[0m_parent_ident\u001b[0m\u001b[0;34m,\u001b[0m\u001b[0;34m\u001b[0m\u001b[0;34m\u001b[0m\u001b[0m\n\u001b[1;32m    703\u001b[0m             \u001b[0mself\u001b[0m\u001b[0;34m.\u001b[0m\u001b[0m_parent_header\u001b[0m\u001b[0;34m,\u001b[0m\u001b[0;34m\u001b[0m\u001b[0;34m\u001b[0m\u001b[0m\n\u001b[0;32m--> 704\u001b[0;31m             \u001b[0mpassword\u001b[0m\u001b[0;34m=\u001b[0m\u001b[0;32mFalse\u001b[0m\u001b[0;34m,\u001b[0m\u001b[0;34m\u001b[0m\u001b[0;34m\u001b[0m\u001b[0m\n\u001b[0m\u001b[1;32m    705\u001b[0m         )\n\u001b[1;32m    706\u001b[0m \u001b[0;34m\u001b[0m\u001b[0m\n",
            "\u001b[0;32m/usr/local/lib/python3.7/dist-packages/ipykernel/kernelbase.py\u001b[0m in \u001b[0;36m_input_request\u001b[0;34m(self, prompt, ident, parent, password)\u001b[0m\n\u001b[1;32m    732\u001b[0m             \u001b[0;32mexcept\u001b[0m \u001b[0mKeyboardInterrupt\u001b[0m\u001b[0;34m:\u001b[0m\u001b[0;34m\u001b[0m\u001b[0;34m\u001b[0m\u001b[0m\n\u001b[1;32m    733\u001b[0m                 \u001b[0;31m# re-raise KeyboardInterrupt, to truncate traceback\u001b[0m\u001b[0;34m\u001b[0m\u001b[0;34m\u001b[0m\u001b[0;34m\u001b[0m\u001b[0m\n\u001b[0;32m--> 734\u001b[0;31m                 \u001b[0;32mraise\u001b[0m \u001b[0mKeyboardInterrupt\u001b[0m\u001b[0;34m\u001b[0m\u001b[0;34m\u001b[0m\u001b[0m\n\u001b[0m\u001b[1;32m    735\u001b[0m             \u001b[0;32melse\u001b[0m\u001b[0;34m:\u001b[0m\u001b[0;34m\u001b[0m\u001b[0;34m\u001b[0m\u001b[0m\n\u001b[1;32m    736\u001b[0m                 \u001b[0;32mbreak\u001b[0m\u001b[0;34m\u001b[0m\u001b[0;34m\u001b[0m\u001b[0m\n",
            "\u001b[0;31mKeyboardInterrupt\u001b[0m: "
          ]
        }
      ]
    },
    {
      "cell_type": "markdown",
      "source": [
        "# Test Result"
      ],
      "metadata": {
        "id": "HV1JVtkA_S1y"
      }
    },
    {
      "cell_type": "code",
      "source": [
        ""
      ],
      "metadata": {
        "id": "fwq016wo89Xi"
      },
      "execution_count": null,
      "outputs": []
    }
  ]
}